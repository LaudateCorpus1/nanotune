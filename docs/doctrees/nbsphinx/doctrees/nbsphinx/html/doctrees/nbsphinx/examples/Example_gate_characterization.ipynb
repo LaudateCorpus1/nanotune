{
 "cells": [
  {
   "cell_type": "code",
   "execution_count": 1,
   "id": "celtic-google",
   "metadata": {
    "execution": {
     "iopub.execute_input": "2021-07-27T12:49:07.371853Z",
     "iopub.status.busy": "2021-07-27T12:49:07.370532Z",
     "iopub.status.idle": "2021-07-27T12:49:19.855488Z",
     "shell.execute_reply": "2021-07-27T12:49:19.856966Z"
    }
   },
   "outputs": [
    {
     "name": "stdout",
     "output_type": "stream",
     "text": [
      "Logging hadn't been started.\n",
      "Activating auto-logging. Current session state plus future input saved.\n",
      "Filename       : /Users/jana/.qcodes/logs/command_history.log\n",
      "Mode           : append\n",
      "Output logging : True\n",
      "Raw input log  : False\n",
      "Timestamping   : True\n",
      "State          : active\n"
     ]
    },
    {
     "name": "stdout",
     "output_type": "stream",
     "text": [
      "Qcodes Logfile : /Users/jana/.qcodes/logs/210727-14547-qcodes.log\n"
     ]
    },
    {
     "ename": "ImportError",
     "evalue": "cannot import name 'QuantumDotMockInstrument' from 'sim.qcodes_mocks' (/Users/jana/Documents/code/nanotune/nanotune/sim/qcodes_mocks.py)",
     "output_type": "error",
     "traceback": [
      "\u001b[0;31m---------------------------------------------------------------------------\u001b[0m",
      "\u001b[0;31mImportError\u001b[0m                               Traceback (most recent call last)",
      "\u001b[0;32m<ipython-input-1-9d0f6dce66ac>\u001b[0m in \u001b[0;36m<module>\u001b[0;34m\u001b[0m\n\u001b[1;32m     10\u001b[0m \u001b[0;34m\u001b[0m\u001b[0m\n\u001b[1;32m     11\u001b[0m \u001b[0;32mfrom\u001b[0m \u001b[0msim\u001b[0m\u001b[0;34m.\u001b[0m\u001b[0mdata_providers\u001b[0m \u001b[0;32mimport\u001b[0m \u001b[0mQcodesDataProvider\u001b[0m\u001b[0;34m\u001b[0m\u001b[0;34m\u001b[0m\u001b[0m\n\u001b[0;32m---> 12\u001b[0;31m \u001b[0;32mfrom\u001b[0m \u001b[0msim\u001b[0m\u001b[0;34m.\u001b[0m\u001b[0mqcodes_mocks\u001b[0m \u001b[0;32mimport\u001b[0m \u001b[0mQuantumDotMockInstrument\u001b[0m\u001b[0;34m\u001b[0m\u001b[0;34m\u001b[0m\u001b[0m\n\u001b[0m\u001b[1;32m     13\u001b[0m \u001b[0;34m\u001b[0m\u001b[0m\n\u001b[1;32m     14\u001b[0m \u001b[0mnt_path\u001b[0m \u001b[0;34m=\u001b[0m \u001b[0mos\u001b[0m\u001b[0;34m.\u001b[0m\u001b[0mpath\u001b[0m\u001b[0;34m.\u001b[0m\u001b[0mdirname\u001b[0m\u001b[0;34m(\u001b[0m\u001b[0mos\u001b[0m\u001b[0;34m.\u001b[0m\u001b[0mpath\u001b[0m\u001b[0;34m.\u001b[0m\u001b[0mdirname\u001b[0m\u001b[0;34m(\u001b[0m\u001b[0mos\u001b[0m\u001b[0;34m.\u001b[0m\u001b[0mpath\u001b[0m\u001b[0;34m.\u001b[0m\u001b[0mabspath\u001b[0m\u001b[0;34m(\u001b[0m\u001b[0mnt\u001b[0m\u001b[0;34m.\u001b[0m\u001b[0m__file__\u001b[0m\u001b[0;34m)\u001b[0m\u001b[0;34m)\u001b[0m\u001b[0;34m)\u001b[0m\u001b[0;34m\u001b[0m\u001b[0;34m\u001b[0m\u001b[0m\n",
      "\u001b[0;31mImportError\u001b[0m: cannot import name 'QuantumDotMockInstrument' from 'sim.qcodes_mocks' (/Users/jana/Documents/code/nanotune/nanotune/sim/qcodes_mocks.py)"
     ]
    }
   ],
   "source": [
    "import os\n",
    "\n",
    "from qcodes import Station, load_or_create_experiment\n",
    "from qcodes.dataset.plotting import plot_dataset\n",
    "from qcodes.dataset.data_set import load_by_run_spec\n",
    " \n",
    "import nanotune as nt\n",
    "from nanotune.tuningstages.gatecharacterization1d import GateCharacterization1D\n",
    "from nanotune.classification.classifier import Classifier\n",
    "\n",
    "from sim.data_providers import QcodesDataProvider\n",
    "from sim.qcodes_mocks import QuantumDotMockInstrument\n",
    "\n",
    "nt_path = os.path.dirname(os.path.dirname(os.path.abspath(nt.__file__)))"
   ]
  },
  {
   "cell_type": "markdown",
   "id": "binary-arnold",
   "metadata": {},
   "source": [
    "Define databases"
   ]
  },
  {
   "cell_type": "code",
   "execution_count": 2,
   "id": "handmade-gospel",
   "metadata": {
    "execution": {
     "iopub.execute_input": "2021-07-27T12:49:19.865638Z",
     "iopub.status.busy": "2021-07-27T12:49:19.864292Z",
     "iopub.status.idle": "2021-07-27T12:49:19.877678Z",
     "shell.execute_reply": "2021-07-27T12:49:19.878593Z"
    }
   },
   "outputs": [
    {
     "ename": "NameError",
     "evalue": "name 'nt_path' is not defined",
     "output_type": "error",
     "traceback": [
      "\u001b[0;31m---------------------------------------------------------------------------\u001b[0m",
      "\u001b[0;31mNameError\u001b[0m                                 Traceback (most recent call last)",
      "\u001b[0;32m<ipython-input-1-0abe1f825d23>\u001b[0m in \u001b[0;36m<module>\u001b[0;34m\u001b[0m\n\u001b[1;32m      1\u001b[0m \u001b[0mdb_name_original_data\u001b[0m \u001b[0;34m=\u001b[0m \u001b[0;34m\"device_characterization.db\"\u001b[0m\u001b[0;34m\u001b[0m\u001b[0;34m\u001b[0m\u001b[0m\n\u001b[0;32m----> 2\u001b[0;31m \u001b[0mdb_folder_original_data\u001b[0m \u001b[0;34m=\u001b[0m \u001b[0mos\u001b[0m\u001b[0;34m.\u001b[0m\u001b[0mpath\u001b[0m\u001b[0;34m.\u001b[0m\u001b[0mjoin\u001b[0m\u001b[0;34m(\u001b[0m\u001b[0mnt_path\u001b[0m\u001b[0;34m,\u001b[0m \u001b[0;34m\"data\"\u001b[0m\u001b[0;34m,\u001b[0m \u001b[0;34m\"tuning\"\u001b[0m\u001b[0;34m)\u001b[0m\u001b[0;34m\u001b[0m\u001b[0;34m\u001b[0m\u001b[0m\n\u001b[0m\u001b[1;32m      3\u001b[0m \u001b[0mchar_db_path\u001b[0m \u001b[0;34m=\u001b[0m \u001b[0mos\u001b[0m\u001b[0;34m.\u001b[0m\u001b[0mpath\u001b[0m\u001b[0;34m.\u001b[0m\u001b[0mjoin\u001b[0m\u001b[0;34m(\u001b[0m\u001b[0mdb_folder_original_data\u001b[0m\u001b[0;34m,\u001b[0m \u001b[0mdb_name_original_data\u001b[0m\u001b[0;34m)\u001b[0m\u001b[0;34m\u001b[0m\u001b[0;34m\u001b[0m\u001b[0m\n\u001b[1;32m      4\u001b[0m \u001b[0mnt\u001b[0m\u001b[0;34m.\u001b[0m\u001b[0mset_database\u001b[0m\u001b[0;34m(\u001b[0m\u001b[0mdb_name_original_data\u001b[0m\u001b[0;34m,\u001b[0m \u001b[0mdb_folder_original_data\u001b[0m\u001b[0;34m)\u001b[0m\u001b[0;34m\u001b[0m\u001b[0;34m\u001b[0m\u001b[0m\n\u001b[1;32m      5\u001b[0m \u001b[0;34m\u001b[0m\u001b[0m\n",
      "\u001b[0;31mNameError\u001b[0m: name 'nt_path' is not defined"
     ]
    }
   ],
   "source": [
    "db_name_original_data = \"device_characterization.db\"\n",
    "db_folder_original_data = os.path.join(nt_path, \"data\", \"tuning\")\n",
    "char_db_path = os.path.join(db_folder_original_data, db_name_original_data)\n",
    "nt.set_database(db_name_original_data, db_folder_original_data)\n",
    "\n",
    "db_name_replay = 'qdsim_test.db'\n",
    "db_folder_replay = os.getcwd()"
   ]
  },
  {
   "cell_type": "markdown",
   "id": "direct-density",
   "metadata": {},
   "source": [
    "Create qc.Station"
   ]
  },
  {
   "cell_type": "code",
   "execution_count": 3,
   "id": "conventional-concept",
   "metadata": {
    "execution": {
     "iopub.execute_input": "2021-07-27T12:49:19.884687Z",
     "iopub.status.busy": "2021-07-27T12:49:19.883516Z",
     "iopub.status.idle": "2021-07-27T12:49:19.895515Z",
     "shell.execute_reply": "2021-07-27T12:49:19.894417Z"
    }
   },
   "outputs": [
    {
     "ename": "NameError",
     "evalue": "name 'QuantumDotMockInstrument' is not defined",
     "output_type": "error",
     "traceback": [
      "\u001b[0;31m---------------------------------------------------------------------------\u001b[0m",
      "\u001b[0;31mNameError\u001b[0m                                 Traceback (most recent call last)",
      "\u001b[0;32m<ipython-input-1-e0f94335ba9e>\u001b[0m in \u001b[0;36m<module>\u001b[0;34m\u001b[0m\n\u001b[1;32m      1\u001b[0m \u001b[0mstation\u001b[0m \u001b[0;34m=\u001b[0m \u001b[0mStation\u001b[0m\u001b[0;34m(\u001b[0m\u001b[0;34m)\u001b[0m\u001b[0;34m\u001b[0m\u001b[0;34m\u001b[0m\u001b[0m\n\u001b[1;32m      2\u001b[0m \u001b[0;34m\u001b[0m\u001b[0m\n\u001b[0;32m----> 3\u001b[0;31m \u001b[0mqd_mock_instrument\u001b[0m \u001b[0;34m=\u001b[0m \u001b[0mQuantumDotMockInstrument\u001b[0m\u001b[0;34m(\u001b[0m\u001b[0;34m)\u001b[0m\u001b[0;34m\u001b[0m\u001b[0;34m\u001b[0m\u001b[0m\n\u001b[0m\u001b[1;32m      4\u001b[0m \u001b[0mstation\u001b[0m\u001b[0;34m.\u001b[0m\u001b[0madd_component\u001b[0m\u001b[0;34m(\u001b[0m\u001b[0mqd_mock_instrument\u001b[0m\u001b[0;34m,\u001b[0m \u001b[0mname\u001b[0m\u001b[0;34m=\u001b[0m\u001b[0;34m\"qdmock\"\u001b[0m\u001b[0;34m)\u001b[0m\u001b[0;34m\u001b[0m\u001b[0;34m\u001b[0m\u001b[0m\n\u001b[1;32m      5\u001b[0m \u001b[0;34m\u001b[0m\u001b[0m\n",
      "\u001b[0;31mNameError\u001b[0m: name 'QuantumDotMockInstrument' is not defined"
     ]
    }
   ],
   "source": [
    "station = Station()\n",
    "\n",
    "qd_mock_instrument = QuantumDotMockInstrument()\n",
    "station.add_component(qd_mock_instrument, name=\"qdmock\")\n",
    "\n",
    "qdsim = qd_mock_instrument.mock_device"
   ]
  },
  {
   "cell_type": "markdown",
   "id": "neural-methodology",
   "metadata": {},
   "source": [
    " Create the data provider to use for the right plunger pinch-off measurement. \n",
    " Binding the sim.r_plunger pin as the input data provider."
   ]
  },
  {
   "cell_type": "code",
   "execution_count": 4,
   "id": "liked-czech",
   "metadata": {
    "execution": {
     "iopub.execute_input": "2021-07-27T12:49:19.901770Z",
     "iopub.status.busy": "2021-07-27T12:49:19.900754Z",
     "iopub.status.idle": "2021-07-27T12:49:19.911871Z",
     "shell.execute_reply": "2021-07-27T12:49:19.912654Z"
    }
   },
   "outputs": [
    {
     "ename": "NameError",
     "evalue": "name 'db_folder_original_data' is not defined",
     "output_type": "error",
     "traceback": [
      "\u001b[0;31m---------------------------------------------------------------------------\u001b[0m",
      "\u001b[0;31mNameError\u001b[0m                                 Traceback (most recent call last)",
      "\u001b[0;32m<ipython-input-1-fd360420166a>\u001b[0m in \u001b[0;36m<module>\u001b[0;34m\u001b[0m\n\u001b[1;32m      3\u001b[0m \u001b[0;34m\u001b[0m\u001b[0m\n\u001b[1;32m      4\u001b[0m \u001b[0;31m# load original dataset to get device normalization constant\u001b[0m\u001b[0;34m\u001b[0m\u001b[0;34m\u001b[0m\u001b[0;34m\u001b[0m\u001b[0m\n\u001b[0;32m----> 5\u001b[0;31m \u001b[0mds\u001b[0m \u001b[0;34m=\u001b[0m \u001b[0mnt\u001b[0m\u001b[0;34m.\u001b[0m\u001b[0mDataset\u001b[0m\u001b[0;34m(\u001b[0m\u001b[0;36m1206\u001b[0m\u001b[0;34m,\u001b[0m \u001b[0mdb_name_original_data\u001b[0m\u001b[0;34m,\u001b[0m \u001b[0mdb_folder_original_data\u001b[0m\u001b[0;34m)\u001b[0m\u001b[0;34m\u001b[0m\u001b[0;34m\u001b[0m\u001b[0m\n\u001b[0m\u001b[1;32m      6\u001b[0m \u001b[0;34m\u001b[0m\u001b[0m\n\u001b[1;32m      7\u001b[0m pinchoff_right_plunger = QcodesDataProvider(\n",
      "\u001b[0;31mNameError\u001b[0m: name 'db_folder_original_data' is not defined"
     ]
    }
   ],
   "source": [
    "experiment = \"GB_Newtown_Dev_3_2\"\n",
    "captured_run_id = 1206\n",
    "\n",
    "# load original dataset to get device normalization constant\n",
    "ds = nt.Dataset(1206, db_name_original_data, db_folder_original_data)\n",
    "\n",
    "pinchoff_right_plunger = QcodesDataProvider(\n",
    "    [qdsim.r_plunger], \n",
    "    char_db_path, \n",
    "    \"GB_Newtown_Dev_3_2\", \n",
    "    captured_run_id,\n",
    ")\n",
    "qd_mock_instrument.drain.set_data_provider(pinchoff_right_plunger)"
   ]
  },
  {
   "cell_type": "markdown",
   "id": "played-financing",
   "metadata": {},
   "source": [
    "Train pinchoff classifier"
   ]
  },
  {
   "cell_type": "code",
   "execution_count": 5,
   "id": "middle-basket",
   "metadata": {
    "execution": {
     "iopub.execute_input": "2021-07-27T12:49:19.919028Z",
     "iopub.status.busy": "2021-07-27T12:49:19.917967Z",
     "iopub.status.idle": "2021-07-27T12:49:19.929505Z",
     "shell.execute_reply": "2021-07-27T12:49:19.928835Z"
    }
   },
   "outputs": [
    {
     "ename": "NameError",
     "evalue": "name 'nt_path' is not defined",
     "output_type": "error",
     "traceback": [
      "\u001b[0;31m---------------------------------------------------------------------------\u001b[0m",
      "\u001b[0;31mNameError\u001b[0m                                 Traceback (most recent call last)",
      "\u001b[0;32m<ipython-input-1-4b0bd3358c3f>\u001b[0m in \u001b[0;36m<module>\u001b[0;34m\u001b[0m\n\u001b[1;32m      4\u001b[0m     \u001b[0mdata_types\u001b[0m\u001b[0;34m=\u001b[0m\u001b[0;34m[\u001b[0m\u001b[0;34m\"signal\"\u001b[0m\u001b[0;34m]\u001b[0m\u001b[0;34m,\u001b[0m\u001b[0;34m\u001b[0m\u001b[0;34m\u001b[0m\u001b[0m\n\u001b[1;32m      5\u001b[0m     \u001b[0mclassifier\u001b[0m\u001b[0;34m=\u001b[0m\u001b[0;34m\"SVC\"\u001b[0m\u001b[0;34m,\u001b[0m\u001b[0;34m\u001b[0m\u001b[0;34m\u001b[0m\u001b[0m\n\u001b[0;32m----> 6\u001b[0;31m     \u001b[0mfolder_path\u001b[0m\u001b[0;34m=\u001b[0m\u001b[0mos\u001b[0m\u001b[0;34m.\u001b[0m\u001b[0mpath\u001b[0m\u001b[0;34m.\u001b[0m\u001b[0mjoin\u001b[0m\u001b[0;34m(\u001b[0m\u001b[0mnt_path\u001b[0m\u001b[0;34m,\u001b[0m \u001b[0;34m'data'\u001b[0m\u001b[0;34m,\u001b[0m \u001b[0;34m'training_data'\u001b[0m\u001b[0;34m)\u001b[0m\u001b[0;34m,\u001b[0m\u001b[0;34m\u001b[0m\u001b[0;34m\u001b[0m\u001b[0m\n\u001b[0m\u001b[1;32m      7\u001b[0m )\n\u001b[1;32m      8\u001b[0m \u001b[0mpinchoff_classifier\u001b[0m\u001b[0;34m.\u001b[0m\u001b[0mtrain\u001b[0m\u001b[0;34m(\u001b[0m\u001b[0;34m)\u001b[0m\u001b[0;34m\u001b[0m\u001b[0;34m\u001b[0m\u001b[0m\n",
      "\u001b[0;31mNameError\u001b[0m: name 'nt_path' is not defined"
     ]
    }
   ],
   "source": [
    "pinchoff_classifier = Classifier(\n",
    "    ['pinchoff.npy'],\n",
    "    'pinchoff',\n",
    "    data_types=[\"signal\"],\n",
    "    classifier=\"SVC\",\n",
    "    folder_path=os.path.join(nt_path, 'data', 'training_data'),\n",
    ")\n",
    "pinchoff_classifier.train()"
   ]
  },
  {
   "cell_type": "markdown",
   "id": "legal-transaction",
   "metadata": {},
   "source": [
    "Instantiate nanotune GateCharacterization1D tuning stage"
   ]
  },
  {
   "cell_type": "code",
   "execution_count": 6,
   "id": "unknown-jewelry",
   "metadata": {
    "execution": {
     "iopub.execute_input": "2021-07-27T12:49:19.935388Z",
     "iopub.status.busy": "2021-07-27T12:49:19.933565Z",
     "iopub.status.idle": "2021-07-27T12:49:19.952316Z",
     "shell.execute_reply": "2021-07-27T12:49:19.953552Z"
    }
   },
   "outputs": [
    {
     "ename": "NameError",
     "evalue": "name 'db_name_replay' is not defined",
     "output_type": "error",
     "traceback": [
      "\u001b[0;31m---------------------------------------------------------------------------\u001b[0m",
      "\u001b[0;31mNameError\u001b[0m                                 Traceback (most recent call last)",
      "\u001b[0;32m<ipython-input-1-5e4524304098>\u001b[0m in \u001b[0;36m<module>\u001b[0;34m\u001b[0m\n\u001b[0;32m----> 1\u001b[0;31m \u001b[0mnt\u001b[0m\u001b[0;34m.\u001b[0m\u001b[0mset_database\u001b[0m\u001b[0;34m(\u001b[0m\u001b[0mdb_name_replay\u001b[0m\u001b[0;34m,\u001b[0m \u001b[0mdb_folder_replay\u001b[0m\u001b[0;34m)\u001b[0m\u001b[0;34m\u001b[0m\u001b[0;34m\u001b[0m\u001b[0m\n\u001b[0m\u001b[1;32m      2\u001b[0m \u001b[0mexp\u001b[0m \u001b[0;34m=\u001b[0m \u001b[0mload_or_create_experiment\u001b[0m\u001b[0;34m(\u001b[0m\u001b[0;34m\"simtest\"\u001b[0m\u001b[0;34m)\u001b[0m\u001b[0;34m\u001b[0m\u001b[0;34m\u001b[0m\u001b[0m\n",
      "\u001b[0;31mNameError\u001b[0m: name 'db_name_replay' is not defined"
     ]
    }
   ],
   "source": [
    "nt.set_database(db_name_replay, db_folder_replay)\n",
    "exp = load_or_create_experiment(\"simtest\")"
   ]
  },
  {
   "cell_type": "code",
   "execution_count": 7,
   "id": "jewish-apparatus",
   "metadata": {
    "execution": {
     "iopub.execute_input": "2021-07-27T12:49:19.970600Z",
     "iopub.status.busy": "2021-07-27T12:49:19.969221Z",
     "iopub.status.idle": "2021-07-27T12:49:19.978713Z",
     "shell.execute_reply": "2021-07-27T12:49:19.979528Z"
    }
   },
   "outputs": [
    {
     "ename": "NameError",
     "evalue": "name 'db_name_replay' is not defined",
     "output_type": "error",
     "traceback": [
      "\u001b[0;31m---------------------------------------------------------------------------\u001b[0m",
      "\u001b[0;31mNameError\u001b[0m                                 Traceback (most recent call last)",
      "\u001b[0;32m<ipython-input-1-dc13a736727b>\u001b[0m in \u001b[0;36m<module>\u001b[0;34m\u001b[0m\n\u001b[1;32m      1\u001b[0m gatech = GateCharacterization1D(\n\u001b[1;32m      2\u001b[0m     data_settings={\n\u001b[0;32m----> 3\u001b[0;31m         \u001b[0;34m'db_name'\u001b[0m\u001b[0;34m:\u001b[0m \u001b[0mdb_name_replay\u001b[0m\u001b[0;34m,\u001b[0m\u001b[0;34m\u001b[0m\u001b[0;34m\u001b[0m\u001b[0m\n\u001b[0m\u001b[1;32m      4\u001b[0m         \u001b[0;34m'db_folder'\u001b[0m\u001b[0;34m:\u001b[0m \u001b[0mdb_folder_replay\u001b[0m\u001b[0;34m,\u001b[0m\u001b[0;34m\u001b[0m\u001b[0;34m\u001b[0m\u001b[0m\n\u001b[1;32m      5\u001b[0m         \u001b[0;34m'normalization_constants'\u001b[0m\u001b[0;34m:\u001b[0m \u001b[0mds\u001b[0m\u001b[0;34m.\u001b[0m\u001b[0mnormalization_constants\u001b[0m\u001b[0;34m,\u001b[0m\u001b[0;34m\u001b[0m\u001b[0;34m\u001b[0m\u001b[0m\n",
      "\u001b[0;31mNameError\u001b[0m: name 'db_name_replay' is not defined"
     ]
    }
   ],
   "source": [
    "gatech = GateCharacterization1D(\n",
    "    data_settings={\n",
    "        'db_name': db_name_replay,\n",
    "        'db_folder': db_folder_replay,\n",
    "        'normalization_constants': ds.normalization_constants,\n",
    "    },\n",
    "    setpoint_settings={\n",
    "        'voltage_precision': 0.01,\n",
    "        'parameters_to_sweep': [qd_mock_instrument.right_plunger],\n",
    "        'safety_voltage_ranges': [(-3, 0)],\n",
    "        'current_valid_ranges': [(-1, 0)],\n",
    "    },\n",
    "    readout_methods={'transport': qd_mock_instrument.drain},\n",
    "    classifier=pinchoff_classifier,\n",
    "    voltage_interval_to_track=0.3,\n",
    ")"
   ]
  },
  {
   "cell_type": "markdown",
   "id": "acute-better",
   "metadata": {},
   "source": [
    "Run gate characterization stage"
   ]
  },
  {
   "cell_type": "code",
   "execution_count": 8,
   "id": "connected-wales",
   "metadata": {
    "execution": {
     "iopub.execute_input": "2021-07-27T12:49:19.986107Z",
     "iopub.status.busy": "2021-07-27T12:49:19.984882Z",
     "iopub.status.idle": "2021-07-27T12:49:19.996887Z",
     "shell.execute_reply": "2021-07-27T12:49:19.997877Z"
    }
   },
   "outputs": [
    {
     "ename": "NameError",
     "evalue": "name 'gatech' is not defined",
     "output_type": "error",
     "traceback": [
      "\u001b[0;31m---------------------------------------------------------------------------\u001b[0m",
      "\u001b[0;31mNameError\u001b[0m                                 Traceback (most recent call last)",
      "\u001b[0;32m<ipython-input-1-8c473c161313>\u001b[0m in \u001b[0;36m<module>\u001b[0;34m\u001b[0m\n\u001b[0;32m----> 1\u001b[0;31m \u001b[0mtuning_result\u001b[0m \u001b[0;34m=\u001b[0m \u001b[0mgatech\u001b[0m\u001b[0;34m.\u001b[0m\u001b[0mrun_stage\u001b[0m\u001b[0;34m(\u001b[0m\u001b[0;34m)\u001b[0m\u001b[0;34m\u001b[0m\u001b[0;34m\u001b[0m\u001b[0m\n\u001b[0m",
      "\u001b[0;31mNameError\u001b[0m: name 'gatech' is not defined"
     ]
    }
   ],
   "source": [
    "tuning_result = gatech.run_stage()"
   ]
  },
  {
   "cell_type": "code",
   "execution_count": 9,
   "id": "radio-greensboro",
   "metadata": {
    "execution": {
     "iopub.execute_input": "2021-07-27T12:49:20.014993Z",
     "iopub.status.busy": "2021-07-27T12:49:20.004939Z",
     "iopub.status.idle": "2021-07-27T12:49:20.019778Z",
     "shell.execute_reply": "2021-07-27T12:49:20.021620Z"
    }
   },
   "outputs": [
    {
     "ename": "NameError",
     "evalue": "name 'tuning_result' is not defined",
     "output_type": "error",
     "traceback": [
      "\u001b[0;31m---------------------------------------------------------------------------\u001b[0m",
      "\u001b[0;31mNameError\u001b[0m                                 Traceback (most recent call last)",
      "\u001b[0;32m<ipython-input-1-365f60c088a7>\u001b[0m in \u001b[0;36m<module>\u001b[0;34m\u001b[0m\n\u001b[0;32m----> 1\u001b[0;31m \u001b[0mtuning_result\u001b[0m\u001b[0;34m.\u001b[0m\u001b[0msuccess\u001b[0m\u001b[0;34m\u001b[0m\u001b[0;34m\u001b[0m\u001b[0m\n\u001b[0m",
      "\u001b[0;31mNameError\u001b[0m: name 'tuning_result' is not defined"
     ]
    }
   ],
   "source": [
    "tuning_result.success"
   ]
  },
  {
   "cell_type": "code",
   "execution_count": 10,
   "id": "hindu-trailer",
   "metadata": {
    "execution": {
     "iopub.execute_input": "2021-07-27T12:49:20.030474Z",
     "iopub.status.busy": "2021-07-27T12:49:20.026640Z",
     "iopub.status.idle": "2021-07-27T12:49:20.041449Z",
     "shell.execute_reply": "2021-07-27T12:49:20.042267Z"
    }
   },
   "outputs": [
    {
     "ename": "NameError",
     "evalue": "name 'tuning_result' is not defined",
     "output_type": "error",
     "traceback": [
      "\u001b[0;31m---------------------------------------------------------------------------\u001b[0m",
      "\u001b[0;31mNameError\u001b[0m                                 Traceback (most recent call last)",
      "\u001b[0;32m<ipython-input-1-98f081d92a1f>\u001b[0m in \u001b[0;36m<module>\u001b[0;34m\u001b[0m\n\u001b[0;32m----> 1\u001b[0;31m \u001b[0mtuning_result\u001b[0m\u001b[0;34m.\u001b[0m\u001b[0mml_result\u001b[0m\u001b[0;34m\u001b[0m\u001b[0;34m\u001b[0m\u001b[0m\n\u001b[0m",
      "\u001b[0;31mNameError\u001b[0m: name 'tuning_result' is not defined"
     ]
    }
   ],
   "source": [
    "tuning_result.ml_result"
   ]
  },
  {
   "cell_type": "code",
   "execution_count": 11,
   "id": "exceptional-vault",
   "metadata": {
    "execution": {
     "iopub.execute_input": "2021-07-27T12:49:20.051992Z",
     "iopub.status.busy": "2021-07-27T12:49:20.047490Z",
     "iopub.status.idle": "2021-07-27T12:49:20.064579Z",
     "shell.execute_reply": "2021-07-27T12:49:20.065929Z"
    }
   },
   "outputs": [
    {
     "ename": "NameError",
     "evalue": "name 'tuning_result' is not defined",
     "output_type": "error",
     "traceback": [
      "\u001b[0;31m---------------------------------------------------------------------------\u001b[0m",
      "\u001b[0;31mNameError\u001b[0m                                 Traceback (most recent call last)",
      "\u001b[0;32m<ipython-input-1-7b9e5f1f356e>\u001b[0m in \u001b[0;36m<module>\u001b[0;34m\u001b[0m\n\u001b[0;32m----> 1\u001b[0;31m \u001b[0mtuning_result\u001b[0m\u001b[0;34m.\u001b[0m\u001b[0mdata_ids\u001b[0m\u001b[0;34m\u001b[0m\u001b[0;34m\u001b[0m\u001b[0m\n\u001b[0m",
      "\u001b[0;31mNameError\u001b[0m: name 'tuning_result' is not defined"
     ]
    }
   ],
   "source": [
    "tuning_result.data_ids"
   ]
  }
 ],
 "metadata": {
  "kernelspec": {
   "display_name": "Python 3",
   "language": "python",
   "name": "python3"
  },
  "language_info": {
   "codemirror_mode": {
    "name": "ipython",
    "version": 3
   },
   "file_extension": ".py",
   "mimetype": "text/x-python",
   "name": "python",
   "nbconvert_exporter": "python",
   "pygments_lexer": "ipython3",
   "version": "3.9.1"
  }
 },
 "nbformat": 4,
 "nbformat_minor": 5
}
