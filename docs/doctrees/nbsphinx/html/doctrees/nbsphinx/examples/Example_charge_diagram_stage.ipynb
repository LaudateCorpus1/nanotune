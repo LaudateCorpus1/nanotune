{
 "cells": [
  {
   "cell_type": "code",
   "execution_count": 1,
   "id": "celtic-google",
   "metadata": {
    "execution": {
     "iopub.execute_input": "2021-07-27T14:52:44.329003Z",
     "iopub.status.busy": "2021-07-27T14:52:44.326604Z",
     "iopub.status.idle": "2021-07-27T14:52:50.776010Z",
     "shell.execute_reply": "2021-07-27T14:52:50.776739Z"
    }
   },
   "outputs": [
    {
     "name": "stdout",
     "output_type": "stream",
     "text": [
      "Logging hadn't been started.\n",
      "Activating auto-logging. Current session state plus future input saved.\n",
      "Filename       : /Users/jana/.qcodes/logs/command_history.log\n",
      "Mode           : append\n",
      "Output logging : True\n",
      "Raw input log  : False\n",
      "Timestamping   : True\n",
      "State          : active\n"
     ]
    },
    {
     "name": "stdout",
     "output_type": "stream",
     "text": [
      "Qcodes Logfile : /Users/jana/.qcodes/logs/210727-27160-qcodes.log\n"
     ]
    },
    {
     "ename": "ModuleNotFoundError",
     "evalue": "No module named 'prettytable'",
     "output_type": "error",
     "traceback": [
      "\u001b[0;31m---------------------------------------------------------------------------\u001b[0m",
      "\u001b[0;31mModuleNotFoundError\u001b[0m                       Traceback (most recent call last)",
      "\u001b[0;32m/var/folders/6p/gsmpfmfs6k7gkkt4ls8d_qrm0000gn/T/ipykernel_27160/3107994226.py\u001b[0m in \u001b[0;36m<module>\u001b[0;34m\u001b[0m\n\u001b[1;32m      7\u001b[0m \u001b[0;32mimport\u001b[0m \u001b[0mnanotune\u001b[0m \u001b[0;32mas\u001b[0m \u001b[0mnt\u001b[0m\u001b[0;34m\u001b[0m\u001b[0;34m\u001b[0m\u001b[0m\n\u001b[1;32m      8\u001b[0m \u001b[0;32mfrom\u001b[0m \u001b[0mnanotune\u001b[0m\u001b[0;34m.\u001b[0m\u001b[0mtests\u001b[0m\u001b[0;34m.\u001b[0m\u001b[0mmock_classifier\u001b[0m \u001b[0;32mimport\u001b[0m \u001b[0mMockClassifer\u001b[0m\u001b[0;34m\u001b[0m\u001b[0;34m\u001b[0m\u001b[0m\n\u001b[0;32m----> 9\u001b[0;31m \u001b[0;32mfrom\u001b[0m \u001b[0mnanotune\u001b[0m\u001b[0;34m.\u001b[0m\u001b[0mtuningstages\u001b[0m\u001b[0;34m.\u001b[0m\u001b[0mchargediagram\u001b[0m \u001b[0;32mimport\u001b[0m \u001b[0mChargeDiagram\u001b[0m\u001b[0;34m\u001b[0m\u001b[0;34m\u001b[0m\u001b[0m\n\u001b[0m\u001b[1;32m     10\u001b[0m \u001b[0;34m\u001b[0m\u001b[0m\n\u001b[1;32m     11\u001b[0m \u001b[0;32mfrom\u001b[0m \u001b[0msim\u001b[0m\u001b[0;34m.\u001b[0m\u001b[0mdata_providers\u001b[0m \u001b[0;32mimport\u001b[0m \u001b[0mQcodesDataProvider\u001b[0m\u001b[0;34m\u001b[0m\u001b[0;34m\u001b[0m\u001b[0m\n",
      "\u001b[0;32m~/Documents/code/nanotune/nanotune/nanotune/tuningstages/chargediagram.py\u001b[0m in \u001b[0;36m<module>\u001b[0;34m\u001b[0m\n\u001b[1;32m      8\u001b[0m \u001b[0;32mfrom\u001b[0m \u001b[0mnanotune\u001b[0m\u001b[0;34m.\u001b[0m\u001b[0mdevice\u001b[0m\u001b[0;34m.\u001b[0m\u001b[0mdevice\u001b[0m \u001b[0;32mimport\u001b[0m \u001b[0mReadout\u001b[0m\u001b[0;34m\u001b[0m\u001b[0;34m\u001b[0m\u001b[0m\n\u001b[1;32m      9\u001b[0m \u001b[0;32mfrom\u001b[0m \u001b[0mnanotune\u001b[0m\u001b[0;34m.\u001b[0m\u001b[0mfit\u001b[0m\u001b[0;34m.\u001b[0m\u001b[0mdotfit\u001b[0m \u001b[0;32mimport\u001b[0m \u001b[0mDotFit\u001b[0m\u001b[0;34m\u001b[0m\u001b[0;34m\u001b[0m\u001b[0m\n\u001b[0;32m---> 10\u001b[0;31m \u001b[0;32mfrom\u001b[0m \u001b[0mnanotune\u001b[0m\u001b[0;34m.\u001b[0m\u001b[0mtuningstages\u001b[0m\u001b[0;34m.\u001b[0m\u001b[0mtuningstage\u001b[0m \u001b[0;32mimport\u001b[0m \u001b[0mTuningStage\u001b[0m\u001b[0;34m\u001b[0m\u001b[0;34m\u001b[0m\u001b[0m\n\u001b[0m\u001b[1;32m     11\u001b[0m from nanotune.tuningstages.settings import (DataSettings, SetpointSettings,\n\u001b[1;32m     12\u001b[0m     Classifiers)\n",
      "\u001b[0;32m~/Documents/code/nanotune/nanotune/nanotune/tuningstages/tuningstage.py\u001b[0m in \u001b[0;36m<module>\u001b[0;34m\u001b[0m\n\u001b[1;32m     11\u001b[0m \u001b[0;32mfrom\u001b[0m \u001b[0mnanotune\u001b[0m\u001b[0;34m.\u001b[0m\u001b[0mdevice\u001b[0m\u001b[0;34m.\u001b[0m\u001b[0mdevice\u001b[0m \u001b[0;32mimport\u001b[0m \u001b[0mReadout\u001b[0m\u001b[0;34m\u001b[0m\u001b[0;34m\u001b[0m\u001b[0m\n\u001b[1;32m     12\u001b[0m \u001b[0;34m\u001b[0m\u001b[0m\n\u001b[0;32m---> 13\u001b[0;31m from .base_tasks import (  # please update docstrings if import path changes\n\u001b[0m\u001b[1;32m     14\u001b[0m     \u001b[0mcompute_linear_setpoints\u001b[0m\u001b[0;34m,\u001b[0m \u001b[0mget_current_voltages\u001b[0m\u001b[0;34m,\u001b[0m \u001b[0miterate_stage\u001b[0m\u001b[0;34m,\u001b[0m \u001b[0mplot_fit\u001b[0m\u001b[0;34m,\u001b[0m\u001b[0;34m\u001b[0m\u001b[0;34m\u001b[0m\u001b[0m\n\u001b[1;32m     15\u001b[0m     \u001b[0mprepare_metadata\u001b[0m\u001b[0;34m,\u001b[0m \u001b[0mprint_tuningstage_status\u001b[0m\u001b[0;34m,\u001b[0m \u001b[0mrun_stage\u001b[0m\u001b[0;34m,\u001b[0m\u001b[0;34m\u001b[0m\u001b[0;34m\u001b[0m\u001b[0m\n",
      "\u001b[0;32m~/Documents/code/nanotune/nanotune/nanotune/tuningstages/base_tasks.py\u001b[0m in \u001b[0;36m<module>\u001b[0;34m\u001b[0m\n\u001b[1;32m     23\u001b[0m \u001b[0;34m\u001b[0m\u001b[0m\n\u001b[1;32m     24\u001b[0m \u001b[0;32mimport\u001b[0m \u001b[0mnanotune\u001b[0m \u001b[0;32mas\u001b[0m \u001b[0mnt\u001b[0m\u001b[0;34m\u001b[0m\u001b[0;34m\u001b[0m\u001b[0m\n\u001b[0;32m---> 25\u001b[0;31m \u001b[0;32mfrom\u001b[0m \u001b[0mnanotune\u001b[0m\u001b[0;34m.\u001b[0m\u001b[0mclassification\u001b[0m\u001b[0;34m.\u001b[0m\u001b[0mclassifier\u001b[0m \u001b[0;32mimport\u001b[0m \u001b[0mClassifier\u001b[0m\u001b[0;34m\u001b[0m\u001b[0;34m\u001b[0m\u001b[0m\n\u001b[0m\u001b[1;32m     26\u001b[0m \u001b[0;32mfrom\u001b[0m \u001b[0mnanotune\u001b[0m\u001b[0;34m.\u001b[0m\u001b[0mdevice_tuner\u001b[0m\u001b[0;34m.\u001b[0m\u001b[0mtuningresult\u001b[0m \u001b[0;32mimport\u001b[0m \u001b[0mTuningResult\u001b[0m\u001b[0;34m\u001b[0m\u001b[0;34m\u001b[0m\u001b[0m\n\u001b[1;32m     27\u001b[0m \u001b[0;32mfrom\u001b[0m \u001b[0mnanotune\u001b[0m\u001b[0;34m.\u001b[0m\u001b[0mdevice\u001b[0m\u001b[0;34m.\u001b[0m\u001b[0mdevice\u001b[0m \u001b[0;32mimport\u001b[0m \u001b[0mNormalizationConstants\u001b[0m\u001b[0;34m,\u001b[0m \u001b[0mReadout\u001b[0m\u001b[0;34m\u001b[0m\u001b[0;34m\u001b[0m\u001b[0m\n",
      "\u001b[0;32m~/Documents/code/nanotune/nanotune/nanotune/classification/classifier.py\u001b[0m in \u001b[0;36m<module>\u001b[0;34m\u001b[0m\n\u001b[1;32m      7\u001b[0m \u001b[0;32mimport\u001b[0m \u001b[0mmatplotlib\u001b[0m\u001b[0;34m.\u001b[0m\u001b[0mpyplot\u001b[0m \u001b[0;32mas\u001b[0m \u001b[0mplt\u001b[0m\u001b[0;34m\u001b[0m\u001b[0;34m\u001b[0m\u001b[0m\n\u001b[1;32m      8\u001b[0m \u001b[0;32mimport\u001b[0m \u001b[0mnumpy\u001b[0m \u001b[0;32mas\u001b[0m \u001b[0mnp\u001b[0m\u001b[0;34m\u001b[0m\u001b[0;34m\u001b[0m\u001b[0m\n\u001b[0;32m----> 9\u001b[0;31m \u001b[0;32mfrom\u001b[0m \u001b[0mprettytable\u001b[0m \u001b[0;32mimport\u001b[0m \u001b[0mPrettyTable\u001b[0m\u001b[0;34m\u001b[0m\u001b[0;34m\u001b[0m\u001b[0m\n\u001b[0m\u001b[1;32m     10\u001b[0m \u001b[0;32mfrom\u001b[0m \u001b[0mscipy\u001b[0m \u001b[0;32mimport\u001b[0m \u001b[0minterp\u001b[0m\u001b[0;34m\u001b[0m\u001b[0;34m\u001b[0m\u001b[0m\n\u001b[1;32m     11\u001b[0m \u001b[0;32mfrom\u001b[0m \u001b[0msklearn\u001b[0m \u001b[0;32mimport\u001b[0m \u001b[0msvm\u001b[0m\u001b[0;34m\u001b[0m\u001b[0;34m\u001b[0m\u001b[0m\n",
      "\u001b[0;31mModuleNotFoundError\u001b[0m: No module named 'prettytable'"
     ]
    }
   ],
   "source": [
    "import os\n",
    "\n",
    "from qcodes import Station, load_or_create_experiment\n",
    "from qcodes.dataset.plotting import plot_dataset\n",
    "from qcodes.dataset.data_set import load_by_run_spec\n",
    " \n",
    "import nanotune as nt\n",
    "from nanotune.tests.mock_classifier import MockClassifer\n",
    "from nanotune.tuningstages.chargediagram import ChargeDiagram\n",
    "\n",
    "from sim.data_providers import QcodesDataProvider\n",
    "from sim.qcodes_mocks import QuantumDotMockInstrument\n",
    "\n",
    "nt_path = os.path.dirname(os.path.dirname(os.path.abspath(nt.__file__)))"
   ]
  },
  {
   "cell_type": "markdown",
   "id": "unlikely-trust",
   "metadata": {},
   "source": [
    "Define databases"
   ]
  },
  {
   "cell_type": "code",
   "execution_count": 2,
   "id": "tutorial-raleigh",
   "metadata": {
    "execution": {
     "iopub.execute_input": "2021-07-27T14:52:50.789829Z",
     "iopub.status.busy": "2021-07-27T14:52:50.782571Z",
     "iopub.status.idle": "2021-07-27T14:52:50.793248Z",
     "shell.execute_reply": "2021-07-27T14:52:50.793880Z"
    }
   },
   "outputs": [
    {
     "ename": "NameError",
     "evalue": "name 'nt_path' is not defined",
     "output_type": "error",
     "traceback": [
      "\u001b[0;31m---------------------------------------------------------------------------\u001b[0m",
      "\u001b[0;31mNameError\u001b[0m                                 Traceback (most recent call last)",
      "\u001b[0;32m/var/folders/6p/gsmpfmfs6k7gkkt4ls8d_qrm0000gn/T/ipykernel_27160/21570433.py\u001b[0m in \u001b[0;36m<module>\u001b[0;34m\u001b[0m\n\u001b[1;32m      1\u001b[0m \u001b[0mdb_name_original_data2D\u001b[0m \u001b[0;34m=\u001b[0m \u001b[0;34m\"dot_tuning_sequences.db\"\u001b[0m\u001b[0;34m\u001b[0m\u001b[0;34m\u001b[0m\u001b[0m\n\u001b[0;32m----> 2\u001b[0;31m \u001b[0mdb_folder_original_data\u001b[0m \u001b[0;34m=\u001b[0m \u001b[0mos\u001b[0m\u001b[0;34m.\u001b[0m\u001b[0mpath\u001b[0m\u001b[0;34m.\u001b[0m\u001b[0mjoin\u001b[0m\u001b[0;34m(\u001b[0m\u001b[0mnt_path\u001b[0m\u001b[0;34m,\u001b[0m \u001b[0;34m\"data\"\u001b[0m\u001b[0;34m,\u001b[0m \u001b[0;34m\"tuning\"\u001b[0m\u001b[0;34m)\u001b[0m\u001b[0;34m\u001b[0m\u001b[0;34m\u001b[0m\u001b[0m\n\u001b[0m\u001b[1;32m      3\u001b[0m \u001b[0mchargediagram_path\u001b[0m \u001b[0;34m=\u001b[0m \u001b[0mos\u001b[0m\u001b[0;34m.\u001b[0m\u001b[0mpath\u001b[0m\u001b[0;34m.\u001b[0m\u001b[0mjoin\u001b[0m\u001b[0;34m(\u001b[0m\u001b[0mdb_folder_original_data\u001b[0m\u001b[0;34m,\u001b[0m \u001b[0mdb_name_original_data2D\u001b[0m\u001b[0;34m)\u001b[0m\u001b[0;34m\u001b[0m\u001b[0;34m\u001b[0m\u001b[0m\n\u001b[1;32m      4\u001b[0m \u001b[0;34m\u001b[0m\u001b[0m\n\u001b[1;32m      5\u001b[0m \u001b[0mdb_name_replay\u001b[0m \u001b[0;34m=\u001b[0m \u001b[0;34m'qdsim_test.db'\u001b[0m\u001b[0;34m\u001b[0m\u001b[0;34m\u001b[0m\u001b[0m\n",
      "\u001b[0;31mNameError\u001b[0m: name 'nt_path' is not defined"
     ]
    }
   ],
   "source": [
    "db_name_original_data2D = \"dot_tuning_sequences.db\"\n",
    "db_folder_original_data = os.path.join(nt_path, \"data\", \"tuning\")\n",
    "chargediagram_path = os.path.join(db_folder_original_data, db_name_original_data2D)\n",
    "\n",
    "db_name_replay = 'qdsim_test.db'\n",
    "db_folder_replay = os.getcwd()"
   ]
  },
  {
   "cell_type": "markdown",
   "id": "failing-saint",
   "metadata": {},
   "source": [
    "Create qc.Station"
   ]
  },
  {
   "cell_type": "code",
   "execution_count": 3,
   "id": "premium-organic",
   "metadata": {
    "execution": {
     "iopub.execute_input": "2021-07-27T14:52:50.805788Z",
     "iopub.status.busy": "2021-07-27T14:52:50.804370Z",
     "iopub.status.idle": "2021-07-27T14:52:50.808508Z",
     "shell.execute_reply": "2021-07-27T14:52:50.809260Z"
    }
   },
   "outputs": [
    {
     "ename": "NameError",
     "evalue": "name 'QuantumDotMockInstrument' is not defined",
     "output_type": "error",
     "traceback": [
      "\u001b[0;31m---------------------------------------------------------------------------\u001b[0m",
      "\u001b[0;31mNameError\u001b[0m                                 Traceback (most recent call last)",
      "\u001b[0;32m/var/folders/6p/gsmpfmfs6k7gkkt4ls8d_qrm0000gn/T/ipykernel_27160/3115529665.py\u001b[0m in \u001b[0;36m<module>\u001b[0;34m\u001b[0m\n\u001b[1;32m      1\u001b[0m \u001b[0mstation\u001b[0m \u001b[0;34m=\u001b[0m \u001b[0mStation\u001b[0m\u001b[0;34m(\u001b[0m\u001b[0;34m)\u001b[0m\u001b[0;34m\u001b[0m\u001b[0;34m\u001b[0m\u001b[0m\n\u001b[1;32m      2\u001b[0m \u001b[0;34m\u001b[0m\u001b[0m\n\u001b[0;32m----> 3\u001b[0;31m \u001b[0mqd_mock_instrument\u001b[0m \u001b[0;34m=\u001b[0m \u001b[0mQuantumDotMockInstrument\u001b[0m\u001b[0;34m(\u001b[0m\u001b[0;34m)\u001b[0m\u001b[0;34m\u001b[0m\u001b[0;34m\u001b[0m\u001b[0m\n\u001b[0m\u001b[1;32m      4\u001b[0m \u001b[0mstation\u001b[0m\u001b[0;34m.\u001b[0m\u001b[0madd_component\u001b[0m\u001b[0;34m(\u001b[0m\u001b[0mqd_mock_instrument\u001b[0m\u001b[0;34m,\u001b[0m \u001b[0mname\u001b[0m\u001b[0;34m=\u001b[0m\u001b[0;34m\"qdmock\"\u001b[0m\u001b[0;34m)\u001b[0m\u001b[0;34m\u001b[0m\u001b[0;34m\u001b[0m\u001b[0m\n\u001b[1;32m      5\u001b[0m \u001b[0;34m\u001b[0m\u001b[0m\n",
      "\u001b[0;31mNameError\u001b[0m: name 'QuantumDotMockInstrument' is not defined"
     ]
    }
   ],
   "source": [
    "station = Station()\n",
    "\n",
    "qd_mock_instrument = QuantumDotMockInstrument()\n",
    "station.add_component(qd_mock_instrument, name=\"qdmock\")\n",
    "\n",
    "qdsim = qd_mock_instrument.mock_device"
   ]
  },
  {
   "cell_type": "markdown",
   "id": "polar-birmingham",
   "metadata": {},
   "source": [
    "Create the data provider"
   ]
  },
  {
   "cell_type": "code",
   "execution_count": 4,
   "id": "bored-facial",
   "metadata": {
    "execution": {
     "iopub.execute_input": "2021-07-27T14:52:50.820453Z",
     "iopub.status.busy": "2021-07-27T14:52:50.814284Z",
     "iopub.status.idle": "2021-07-27T14:52:50.823763Z",
     "shell.execute_reply": "2021-07-27T14:52:50.824386Z"
    }
   },
   "outputs": [
    {
     "ename": "NameError",
     "evalue": "name 'QcodesDataProvider' is not defined",
     "output_type": "error",
     "traceback": [
      "\u001b[0;31m---------------------------------------------------------------------------\u001b[0m",
      "\u001b[0;31mNameError\u001b[0m                                 Traceback (most recent call last)",
      "\u001b[0;32m/var/folders/6p/gsmpfmfs6k7gkkt4ls8d_qrm0000gn/T/ipykernel_27160/1896909532.py\u001b[0m in \u001b[0;36m<module>\u001b[0;34m\u001b[0m\n\u001b[0;32m----> 1\u001b[0;31m charge_state_data = QcodesDataProvider(\n\u001b[0m\u001b[1;32m      2\u001b[0m     \u001b[0minput_providers\u001b[0m\u001b[0;34m=\u001b[0m\u001b[0;34m[\u001b[0m\u001b[0mqdsim\u001b[0m\u001b[0;34m.\u001b[0m\u001b[0ml_plunger\u001b[0m\u001b[0;34m,\u001b[0m \u001b[0mqdsim\u001b[0m\u001b[0;34m.\u001b[0m\u001b[0mr_plunger\u001b[0m\u001b[0;34m]\u001b[0m\u001b[0;34m,\u001b[0m\u001b[0;34m\u001b[0m\u001b[0;34m\u001b[0m\u001b[0m\n\u001b[1;32m      3\u001b[0m     \u001b[0mdb_path\u001b[0m\u001b[0;34m=\u001b[0m\u001b[0mchargediagram_path\u001b[0m\u001b[0;34m,\u001b[0m\u001b[0;34m\u001b[0m\u001b[0;34m\u001b[0m\u001b[0m\n\u001b[1;32m      4\u001b[0m     \u001b[0mexp_name\u001b[0m\u001b[0;34m=\u001b[0m\u001b[0;34m\"GB_Newtown_Dev_1_1\"\u001b[0m\u001b[0;34m,\u001b[0m\u001b[0;34m\u001b[0m\u001b[0;34m\u001b[0m\u001b[0m\n\u001b[1;32m      5\u001b[0m     \u001b[0mrun_id\u001b[0m \u001b[0;34m=\u001b[0m \u001b[0;36m19\u001b[0m\u001b[0;34m,\u001b[0m\u001b[0;34m\u001b[0m\u001b[0;34m\u001b[0m\u001b[0m\n",
      "\u001b[0;31mNameError\u001b[0m: name 'QcodesDataProvider' is not defined"
     ]
    }
   ],
   "source": [
    "charge_state_data = QcodesDataProvider(\n",
    "    input_providers=[qdsim.l_plunger, qdsim.r_plunger], \n",
    "    db_path=chargediagram_path, \n",
    "    exp_name=\"GB_Newtown_Dev_1_1\", \n",
    "    run_id = 19,\n",
    ")\n",
    "qd_mock_instrument.drain.set_data_provider(charge_state_data)"
   ]
  },
  {
   "cell_type": "code",
   "execution_count": 5,
   "id": "familiar-mambo",
   "metadata": {
    "execution": {
     "iopub.execute_input": "2021-07-27T14:52:50.836457Z",
     "iopub.status.busy": "2021-07-27T14:52:50.835197Z",
     "iopub.status.idle": "2021-07-27T14:52:50.840679Z",
     "shell.execute_reply": "2021-07-27T14:52:50.841515Z"
    }
   },
   "outputs": [
    {
     "ename": "NameError",
     "evalue": "name 'db_folder_original_data' is not defined",
     "output_type": "error",
     "traceback": [
      "\u001b[0;31m---------------------------------------------------------------------------\u001b[0m",
      "\u001b[0;31mNameError\u001b[0m                                 Traceback (most recent call last)",
      "\u001b[0;32m/var/folders/6p/gsmpfmfs6k7gkkt4ls8d_qrm0000gn/T/ipykernel_27160/2307889990.py\u001b[0m in \u001b[0;36m<module>\u001b[0;34m\u001b[0m\n\u001b[0;32m----> 1\u001b[0;31m \u001b[0mds\u001b[0m \u001b[0;34m=\u001b[0m \u001b[0mnt\u001b[0m\u001b[0;34m.\u001b[0m\u001b[0mDataset\u001b[0m\u001b[0;34m(\u001b[0m\u001b[0;36m19\u001b[0m\u001b[0;34m,\u001b[0m \u001b[0mdb_name_original_data2D\u001b[0m\u001b[0;34m,\u001b[0m \u001b[0mdb_folder_original_data\u001b[0m\u001b[0;34m)\u001b[0m\u001b[0;34m\u001b[0m\u001b[0;34m\u001b[0m\u001b[0m\n\u001b[0m\u001b[1;32m      2\u001b[0m range_to_sweep = [\n\u001b[1;32m      3\u001b[0m     \u001b[0;34m(\u001b[0m\u001b[0mmin\u001b[0m\u001b[0;34m(\u001b[0m\u001b[0mds\u001b[0m\u001b[0;34m.\u001b[0m\u001b[0mdata\u001b[0m\u001b[0;34m.\u001b[0m\u001b[0mvoltage_x\u001b[0m\u001b[0;34m.\u001b[0m\u001b[0mvalues\u001b[0m\u001b[0;34m)\u001b[0m\u001b[0;34m,\u001b[0m \u001b[0mmax\u001b[0m\u001b[0;34m(\u001b[0m\u001b[0mds\u001b[0m\u001b[0;34m.\u001b[0m\u001b[0mdata\u001b[0m\u001b[0;34m.\u001b[0m\u001b[0mvoltage_x\u001b[0m\u001b[0;34m.\u001b[0m\u001b[0mvalues\u001b[0m\u001b[0;34m)\u001b[0m\u001b[0;34m)\u001b[0m\u001b[0;34m,\u001b[0m\u001b[0;34m\u001b[0m\u001b[0;34m\u001b[0m\u001b[0m\n\u001b[1;32m      4\u001b[0m     \u001b[0;34m(\u001b[0m\u001b[0mmin\u001b[0m\u001b[0;34m(\u001b[0m\u001b[0mds\u001b[0m\u001b[0;34m.\u001b[0m\u001b[0mdata\u001b[0m\u001b[0;34m.\u001b[0m\u001b[0mvoltage_y\u001b[0m\u001b[0;34m.\u001b[0m\u001b[0mvalues\u001b[0m\u001b[0;34m)\u001b[0m\u001b[0;34m,\u001b[0m \u001b[0mmax\u001b[0m\u001b[0;34m(\u001b[0m\u001b[0mds\u001b[0m\u001b[0;34m.\u001b[0m\u001b[0mdata\u001b[0m\u001b[0;34m.\u001b[0m\u001b[0mvoltage_y\u001b[0m\u001b[0;34m.\u001b[0m\u001b[0mvalues\u001b[0m\u001b[0;34m)\u001b[0m\u001b[0;34m)\u001b[0m\u001b[0;34m,\u001b[0m\u001b[0;34m\u001b[0m\u001b[0;34m\u001b[0m\u001b[0m\n\u001b[1;32m      5\u001b[0m ]\n",
      "\u001b[0;31mNameError\u001b[0m: name 'db_folder_original_data' is not defined"
     ]
    }
   ],
   "source": [
    "ds = nt.Dataset(19, db_name_original_data2D, db_folder_original_data)\n",
    "range_to_sweep = [\n",
    "    (min(ds.data.voltage_x.values), max(ds.data.voltage_x.values)),\n",
    "    (min(ds.data.voltage_y.values), max(ds.data.voltage_y.values)),\n",
    "]\n",
    "# range_to_sweep"
   ]
  },
  {
   "cell_type": "code",
   "execution_count": 6,
   "id": "automated-stations",
   "metadata": {
    "execution": {
     "iopub.execute_input": "2021-07-27T14:52:50.846706Z",
     "iopub.status.busy": "2021-07-27T14:52:50.845680Z",
     "iopub.status.idle": "2021-07-27T14:52:50.855277Z",
     "shell.execute_reply": "2021-07-27T14:52:50.855848Z"
    }
   },
   "outputs": [
    {
     "ename": "NameError",
     "evalue": "name 'db_name_replay' is not defined",
     "output_type": "error",
     "traceback": [
      "\u001b[0;31m---------------------------------------------------------------------------\u001b[0m",
      "\u001b[0;31mNameError\u001b[0m                                 Traceback (most recent call last)",
      "\u001b[0;32m/var/folders/6p/gsmpfmfs6k7gkkt4ls8d_qrm0000gn/T/ipykernel_27160/3176297617.py\u001b[0m in \u001b[0;36m<module>\u001b[0;34m\u001b[0m\n\u001b[0;32m----> 1\u001b[0;31m \u001b[0mnt\u001b[0m\u001b[0;34m.\u001b[0m\u001b[0mset_database\u001b[0m\u001b[0;34m(\u001b[0m\u001b[0mdb_name_replay\u001b[0m\u001b[0;34m,\u001b[0m \u001b[0mdb_folder_replay\u001b[0m\u001b[0;34m)\u001b[0m\u001b[0;34m\u001b[0m\u001b[0;34m\u001b[0m\u001b[0m\n\u001b[0m\u001b[1;32m      2\u001b[0m \u001b[0mexp\u001b[0m \u001b[0;34m=\u001b[0m \u001b[0mload_or_create_experiment\u001b[0m\u001b[0;34m(\u001b[0m\u001b[0;34m\"simtest\"\u001b[0m\u001b[0;34m)\u001b[0m\u001b[0;34m\u001b[0m\u001b[0;34m\u001b[0m\u001b[0m\n",
      "\u001b[0;31mNameError\u001b[0m: name 'db_name_replay' is not defined"
     ]
    }
   ],
   "source": [
    "nt.set_database(db_name_replay, db_folder_replay)\n",
    "exp = load_or_create_experiment(\"simtest\")"
   ]
  },
  {
   "cell_type": "code",
   "execution_count": 7,
   "id": "sound-tomorrow",
   "metadata": {
    "execution": {
     "iopub.execute_input": "2021-07-27T14:52:50.862926Z",
     "iopub.status.busy": "2021-07-27T14:52:50.861682Z",
     "iopub.status.idle": "2021-07-27T14:52:50.872921Z",
     "shell.execute_reply": "2021-07-27T14:52:50.873603Z"
    }
   },
   "outputs": [
    {
     "ename": "NameError",
     "evalue": "name 'ChargeDiagram' is not defined",
     "output_type": "error",
     "traceback": [
      "\u001b[0;31m---------------------------------------------------------------------------\u001b[0m",
      "\u001b[0;31mNameError\u001b[0m                                 Traceback (most recent call last)",
      "\u001b[0;32m/var/folders/6p/gsmpfmfs6k7gkkt4ls8d_qrm0000gn/T/ipykernel_27160/1469651859.py\u001b[0m in \u001b[0;36m<module>\u001b[0;34m\u001b[0m\n\u001b[0;32m----> 1\u001b[0;31m chadiag = ChargeDiagram(\n\u001b[0m\u001b[1;32m      2\u001b[0m     data_settings={\n\u001b[1;32m      3\u001b[0m         \u001b[0;34m'db_name'\u001b[0m\u001b[0;34m:\u001b[0m \u001b[0mdb_name_replay\u001b[0m\u001b[0;34m,\u001b[0m\u001b[0;34m\u001b[0m\u001b[0;34m\u001b[0m\u001b[0m\n\u001b[1;32m      4\u001b[0m         \u001b[0;34m'db_folder'\u001b[0m\u001b[0;34m:\u001b[0m \u001b[0mdb_folder_replay\u001b[0m\u001b[0;34m,\u001b[0m\u001b[0;34m\u001b[0m\u001b[0;34m\u001b[0m\u001b[0m\n\u001b[1;32m      5\u001b[0m         \u001b[0;34m'normalization_constants'\u001b[0m\u001b[0;34m:\u001b[0m \u001b[0mds\u001b[0m\u001b[0;34m.\u001b[0m\u001b[0mnormalization_constants\u001b[0m\u001b[0;34m,\u001b[0m\u001b[0;34m\u001b[0m\u001b[0;34m\u001b[0m\u001b[0m\n",
      "\u001b[0;31mNameError\u001b[0m: name 'ChargeDiagram' is not defined"
     ]
    }
   ],
   "source": [
    "\n",
    "chadiag = ChargeDiagram(\n",
    "    data_settings={\n",
    "        'db_name': db_name_replay,\n",
    "        'db_folder': db_folder_replay,\n",
    "        'normalization_constants': ds.normalization_constants,\n",
    "        'segment_size': 0.2,\n",
    "    },\n",
    "     setpoint_settings={\n",
    "        'voltage_precision': 0.01,\n",
    "        'parameters_to_sweep': [qd_mock_instrument.left_plunger, qd_mock_instrument.right_plunger],\n",
    "        'safety_voltage_ranges': [(-3, 0)],\n",
    "        'current_valid_ranges': range_to_sweep,\n",
    "    },\n",
    "    readout_methods={'transport': qd_mock_instrument.drain},\n",
    "    classifiers={\n",
    "        'singledot': MockClassifer('singledot'),\n",
    "        'doubledot': MockClassifer('doubledot'),\n",
    "        'dotregime': MockClassifer('dotregime')},\n",
    ")"
   ]
  },
  {
   "cell_type": "code",
   "execution_count": 8,
   "id": "consistent-coverage",
   "metadata": {
    "execution": {
     "iopub.execute_input": "2021-07-27T14:52:50.885245Z",
     "iopub.status.busy": "2021-07-27T14:52:50.884199Z",
     "iopub.status.idle": "2021-07-27T14:52:50.888504Z",
     "shell.execute_reply": "2021-07-27T14:52:50.889236Z"
    },
    "scrolled": true
   },
   "outputs": [
    {
     "ename": "NameError",
     "evalue": "name 'chadiag' is not defined",
     "output_type": "error",
     "traceback": [
      "\u001b[0;31m---------------------------------------------------------------------------\u001b[0m",
      "\u001b[0;31mNameError\u001b[0m                                 Traceback (most recent call last)",
      "\u001b[0;32m/var/folders/6p/gsmpfmfs6k7gkkt4ls8d_qrm0000gn/T/ipykernel_27160/128250766.py\u001b[0m in \u001b[0;36m<module>\u001b[0;34m\u001b[0m\n\u001b[0;32m----> 1\u001b[0;31m \u001b[0mtuning_result\u001b[0m \u001b[0;34m=\u001b[0m \u001b[0mchadiag\u001b[0m\u001b[0;34m.\u001b[0m\u001b[0mrun_stage\u001b[0m\u001b[0;34m(\u001b[0m\u001b[0;34m)\u001b[0m\u001b[0;34m\u001b[0m\u001b[0;34m\u001b[0m\u001b[0m\n\u001b[0m",
      "\u001b[0;31mNameError\u001b[0m: name 'chadiag' is not defined"
     ]
    }
   ],
   "source": [
    "tuning_result = chadiag.run_stage()"
   ]
  },
  {
   "cell_type": "code",
   "execution_count": 9,
   "id": "blind-fairy",
   "metadata": {
    "execution": {
     "iopub.execute_input": "2021-07-27T14:52:50.900083Z",
     "iopub.status.busy": "2021-07-27T14:52:50.898763Z",
     "iopub.status.idle": "2021-07-27T14:52:50.902703Z",
     "shell.execute_reply": "2021-07-27T14:52:50.903345Z"
    }
   },
   "outputs": [
    {
     "ename": "NameError",
     "evalue": "name 'tuning_result' is not defined",
     "output_type": "error",
     "traceback": [
      "\u001b[0;31m---------------------------------------------------------------------------\u001b[0m",
      "\u001b[0;31mNameError\u001b[0m                                 Traceback (most recent call last)",
      "\u001b[0;32m/var/folders/6p/gsmpfmfs6k7gkkt4ls8d_qrm0000gn/T/ipykernel_27160/3202731488.py\u001b[0m in \u001b[0;36m<module>\u001b[0;34m\u001b[0m\n\u001b[0;32m----> 1\u001b[0;31m \u001b[0mtuning_result\u001b[0m\u001b[0;34m.\u001b[0m\u001b[0msuccess\u001b[0m\u001b[0;34m\u001b[0m\u001b[0;34m\u001b[0m\u001b[0m\n\u001b[0m",
      "\u001b[0;31mNameError\u001b[0m: name 'tuning_result' is not defined"
     ]
    }
   ],
   "source": [
    "tuning_result.success"
   ]
  },
  {
   "cell_type": "code",
   "execution_count": 10,
   "id": "seasonal-harbor",
   "metadata": {
    "execution": {
     "iopub.execute_input": "2021-07-27T14:52:50.908592Z",
     "iopub.status.busy": "2021-07-27T14:52:50.907813Z",
     "iopub.status.idle": "2021-07-27T14:52:50.925822Z",
     "shell.execute_reply": "2021-07-27T14:52:50.926639Z"
    }
   },
   "outputs": [
    {
     "ename": "NameError",
     "evalue": "name 'tuning_result' is not defined",
     "output_type": "error",
     "traceback": [
      "\u001b[0;31m---------------------------------------------------------------------------\u001b[0m",
      "\u001b[0;31mNameError\u001b[0m                                 Traceback (most recent call last)",
      "\u001b[0;32m/var/folders/6p/gsmpfmfs6k7gkkt4ls8d_qrm0000gn/T/ipykernel_27160/3150862173.py\u001b[0m in \u001b[0;36m<module>\u001b[0;34m\u001b[0m\n\u001b[1;32m      1\u001b[0m \u001b[0;31m# Note that a mock classifier was used, which always returns True == good result\u001b[0m\u001b[0;34m\u001b[0m\u001b[0;34m\u001b[0m\u001b[0;34m\u001b[0m\u001b[0m\n\u001b[0;32m----> 2\u001b[0;31m \u001b[0mtuning_result\u001b[0m\u001b[0;34m.\u001b[0m\u001b[0mml_result\u001b[0m\u001b[0;34m\u001b[0m\u001b[0;34m\u001b[0m\u001b[0m\n\u001b[0m",
      "\u001b[0;31mNameError\u001b[0m: name 'tuning_result' is not defined"
     ]
    }
   ],
   "source": [
    "# Note that a mock classifier was used, which always returns True == good result\n",
    "tuning_result.ml_result"
   ]
  },
  {
   "cell_type": "code",
   "execution_count": 11,
   "id": "abandoned-anaheim",
   "metadata": {
    "execution": {
     "iopub.execute_input": "2021-07-27T14:52:50.933080Z",
     "iopub.status.busy": "2021-07-27T14:52:50.932008Z",
     "iopub.status.idle": "2021-07-27T14:52:50.944094Z",
     "shell.execute_reply": "2021-07-27T14:52:50.944620Z"
    }
   },
   "outputs": [
    {
     "ename": "NameError",
     "evalue": "name 'tuning_result' is not defined",
     "output_type": "error",
     "traceback": [
      "\u001b[0;31m---------------------------------------------------------------------------\u001b[0m",
      "\u001b[0;31mNameError\u001b[0m                                 Traceback (most recent call last)",
      "\u001b[0;32m/var/folders/6p/gsmpfmfs6k7gkkt4ls8d_qrm0000gn/T/ipykernel_27160/3649862796.py\u001b[0m in \u001b[0;36m<module>\u001b[0;34m\u001b[0m\n\u001b[0;32m----> 1\u001b[0;31m \u001b[0mtuning_result\u001b[0m\u001b[0;34m.\u001b[0m\u001b[0mdata_ids\u001b[0m\u001b[0;34m\u001b[0m\u001b[0;34m\u001b[0m\u001b[0m\n\u001b[0m",
      "\u001b[0;31mNameError\u001b[0m: name 'tuning_result' is not defined"
     ]
    }
   ],
   "source": [
    "tuning_result.data_ids"
   ]
  },
  {
   "cell_type": "code",
   "execution_count": null,
   "id": "incorrect-allen",
   "metadata": {},
   "outputs": [],
   "source": []
  },
  {
   "cell_type": "code",
   "execution_count": null,
   "id": "separated-privilege",
   "metadata": {},
   "outputs": [],
   "source": []
  }
 ],
 "metadata": {
  "kernelspec": {
   "display_name": "Python 3",
   "language": "python",
   "name": "python3"
  },
  "language_info": {
   "codemirror_mode": {
    "name": "ipython",
    "version": 3
   },
   "file_extension": ".py",
   "mimetype": "text/x-python",
   "name": "python",
   "nbconvert_exporter": "python",
   "pygments_lexer": "ipython3",
   "version": "3.8.10"
  }
 },
 "nbformat": 4,
 "nbformat_minor": 5
}
