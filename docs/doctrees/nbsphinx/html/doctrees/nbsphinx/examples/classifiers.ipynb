{
 "cells": [
  {
   "cell_type": "code",
   "execution_count": 1,
   "id": "focused-hardwood",
   "metadata": {
    "execution": {
     "iopub.execute_input": "2021-07-27T12:53:07.403182Z",
     "iopub.status.busy": "2021-07-27T12:53:07.400912Z",
     "iopub.status.idle": "2021-07-27T12:53:11.568886Z",
     "shell.execute_reply": "2021-07-27T12:53:11.569338Z"
    }
   },
   "outputs": [
    {
     "name": "stdout",
     "output_type": "stream",
     "text": [
      "Logging hadn't been started.\n",
      "Activating auto-logging. Current session state plus future input saved.\n",
      "Filename       : /Users/jana/.qcodes/logs/command_history.log\n",
      "Mode           : append\n",
      "Output logging : True\n",
      "Raw input log  : False\n",
      "Timestamping   : True\n",
      "State          : active\n"
     ]
    },
    {
     "name": "stdout",
     "output_type": "stream",
     "text": [
      "Qcodes Logfile : /Users/jana/.qcodes/logs/210727-15087-qcodes.log\n"
     ]
    }
   ],
   "source": [
    "import os\n",
    "import matplotlib.pyplot as plt\n",
    "\n",
    "from qcodes.dataset.plotting import plot_by_id\n",
    "\n",
    "import nanotune as nt\n",
    "from nanotune.classification.classifier import Classifier\n",
    "\n",
    "nt_path = os.path.dirname(os.path.dirname(os.path.abspath(nt.__file__)))"
   ]
  },
  {
   "cell_type": "markdown",
   "id": "electric-subsection",
   "metadata": {},
   "source": [
    "Instantiate classifier, which also load the training data"
   ]
  },
  {
   "cell_type": "code",
   "execution_count": 2,
   "id": "particular-latest",
   "metadata": {
    "execution": {
     "iopub.execute_input": "2021-07-27T12:53:11.574379Z",
     "iopub.status.busy": "2021-07-27T12:53:11.573721Z",
     "iopub.status.idle": "2021-07-27T12:53:11.630882Z",
     "shell.execute_reply": "2021-07-27T12:53:11.631417Z"
    }
   },
   "outputs": [],
   "source": [
    "clf = Classifier(\n",
    "    ['pinchoff.npy'],\n",
    "    'pinchoff',\n",
    "    data_types=[\"signal\"],\n",
    "    classifier=\"SVC\",\n",
    "    folder_path=os.path.join(nt_path, 'data', 'training_data'),\n",
    ")"
   ]
  },
  {
   "cell_type": "markdown",
   "id": "certain-jaguar",
   "metadata": {},
   "source": [
    "Train the classifier"
   ]
  },
  {
   "cell_type": "code",
   "execution_count": 3,
   "id": "aboriginal-cliff",
   "metadata": {
    "execution": {
     "iopub.execute_input": "2021-07-27T12:53:11.636276Z",
     "iopub.status.busy": "2021-07-27T12:53:11.635601Z",
     "iopub.status.idle": "2021-07-27T12:53:11.972010Z",
     "shell.execute_reply": "2021-07-27T12:53:11.972413Z"
    }
   },
   "outputs": [],
   "source": [
    "clf.train()"
   ]
  },
  {
   "cell_type": "markdown",
   "id": "pointed-cowboy",
   "metadata": {},
   "source": [
    "Choose data which should be classified"
   ]
  },
  {
   "cell_type": "code",
   "execution_count": 4,
   "id": "fancy-snake",
   "metadata": {
    "execution": {
     "iopub.execute_input": "2021-07-27T12:53:11.976928Z",
     "iopub.status.busy": "2021-07-27T12:53:11.976301Z",
     "iopub.status.idle": "2021-07-27T12:53:11.986409Z",
     "shell.execute_reply": "2021-07-27T12:53:11.987005Z"
    }
   },
   "outputs": [],
   "source": [
    "db_folder = os.path.join(nt_path, 'data', 'tuning')\n",
    "db_name = \"device_characterization.db\"\n",
    "run_ids = [1203, 347]\n",
    "\n",
    "nt.set_database(db_name, db_folder)"
   ]
  },
  {
   "cell_type": "code",
   "execution_count": 5,
   "id": "close-lemon",
   "metadata": {
    "execution": {
     "iopub.execute_input": "2021-07-27T12:53:11.992377Z",
     "iopub.status.busy": "2021-07-27T12:53:11.991606Z",
     "iopub.status.idle": "2021-07-27T12:53:12.268636Z",
     "shell.execute_reply": "2021-07-27T12:53:12.269079Z"
    }
   },
   "outputs": [
    {
     "ename": "KeyError",
     "evalue": "'transport'",
     "output_type": "error",
     "traceback": [
      "\u001b[0;31m---------------------------------------------------------------------------\u001b[0m",
      "\u001b[0;31mKeyError\u001b[0m                                  Traceback (most recent call last)",
      "\u001b[0;32m<ipython-input-1-4256aea8e79f>\u001b[0m in \u001b[0;36m<module>\u001b[0;34m\u001b[0m\n\u001b[1;32m      1\u001b[0m \u001b[0;32mfor\u001b[0m \u001b[0mrun_id\u001b[0m \u001b[0;32min\u001b[0m \u001b[0mrun_ids\u001b[0m\u001b[0;34m:\u001b[0m\u001b[0;34m\u001b[0m\u001b[0;34m\u001b[0m\u001b[0m\n\u001b[0;32m----> 2\u001b[0;31m     quality = clf.predict(\n\u001b[0m\u001b[1;32m      3\u001b[0m         \u001b[0mrun_id\u001b[0m\u001b[0;34m,\u001b[0m\u001b[0;34m\u001b[0m\u001b[0;34m\u001b[0m\u001b[0m\n\u001b[1;32m      4\u001b[0m         \u001b[0mdb_name\u001b[0m\u001b[0;34m,\u001b[0m\u001b[0;34m\u001b[0m\u001b[0;34m\u001b[0m\u001b[0m\n\u001b[1;32m      5\u001b[0m         \u001b[0mdb_folder\u001b[0m\u001b[0;34m,\u001b[0m\u001b[0;34m\u001b[0m\u001b[0;34m\u001b[0m\u001b[0m\n",
      "\u001b[0;32m~/Documents/code/nanotune/nanotune/nanotune/classification/classifier.py\u001b[0m in \u001b[0;36mpredict\u001b[0;34m(self, dataid, db_name, db_folder)\u001b[0m\n\u001b[1;32m    438\u001b[0m \u001b[0;34m\u001b[0m\u001b[0m\n\u001b[1;32m    439\u001b[0m         \u001b[0mdf\u001b[0m \u001b[0;34m=\u001b[0m \u001b[0mDataset\u001b[0m\u001b[0;34m(\u001b[0m\u001b[0mdataid\u001b[0m\u001b[0;34m,\u001b[0m \u001b[0mdb_name\u001b[0m\u001b[0;34m)\u001b[0m\u001b[0;34m\u001b[0m\u001b[0;34m\u001b[0m\u001b[0m\n\u001b[0;32m--> 440\u001b[0;31m         \u001b[0mcondensed_data_all\u001b[0m \u001b[0;34m=\u001b[0m \u001b[0mprep_data\u001b[0m\u001b[0;34m(\u001b[0m\u001b[0mdf\u001b[0m\u001b[0;34m,\u001b[0m \u001b[0mself\u001b[0m\u001b[0;34m.\u001b[0m\u001b[0mcategory\u001b[0m\u001b[0;34m)\u001b[0m\u001b[0;34m\u001b[0m\u001b[0;34m\u001b[0m\u001b[0m\n\u001b[0m\u001b[1;32m    441\u001b[0m \u001b[0;34m\u001b[0m\u001b[0m\n\u001b[1;32m    442\u001b[0m         \u001b[0mpredictions\u001b[0m \u001b[0;34m=\u001b[0m \u001b[0;34m[\u001b[0m\u001b[0;34m]\u001b[0m\u001b[0;34m\u001b[0m\u001b[0;34m\u001b[0m\u001b[0m\n",
      "\u001b[0;32m~/Documents/code/nanotune/nanotune/nanotune/data/export_data.py\u001b[0m in \u001b[0;36mprep_data\u001b[0;34m(dataset, category, flip_data)\u001b[0m\n\u001b[1;32m    101\u001b[0m             \u001b[0;32mif\u001b[0m \u001b[0mall\u001b[0m\u001b[0;34m(\u001b[0m\u001b[0misinstance\u001b[0m\u001b[0;34m(\u001b[0m\u001b[0mi\u001b[0m\u001b[0;34m,\u001b[0m \u001b[0mdict\u001b[0m\u001b[0;34m)\u001b[0m \u001b[0;32mfor\u001b[0m \u001b[0mi\u001b[0m \u001b[0;32min\u001b[0m \u001b[0mdataset\u001b[0m\u001b[0;34m.\u001b[0m\u001b[0mfeatures\u001b[0m\u001b[0;34m.\u001b[0m\u001b[0mvalues\u001b[0m\u001b[0;34m(\u001b[0m\u001b[0;34m)\u001b[0m\u001b[0;34m)\u001b[0m\u001b[0;34m:\u001b[0m\u001b[0;34m\u001b[0m\u001b[0;34m\u001b[0m\u001b[0m\n\u001b[1;32m    102\u001b[0m                 \u001b[0;32mfor\u001b[0m \u001b[0mfeat\u001b[0m \u001b[0;32min\u001b[0m \u001b[0mrelevant_features\u001b[0m\u001b[0;34m:\u001b[0m\u001b[0;34m\u001b[0m\u001b[0;34m\u001b[0m\u001b[0m\n\u001b[0;32m--> 103\u001b[0;31m                     \u001b[0mfeatures\u001b[0m\u001b[0;34m.\u001b[0m\u001b[0mappend\u001b[0m\u001b[0;34m(\u001b[0m\u001b[0mdataset\u001b[0m\u001b[0;34m.\u001b[0m\u001b[0mfeatures\u001b[0m\u001b[0;34m[\u001b[0m\u001b[0mreadout_method\u001b[0m\u001b[0;34m]\u001b[0m\u001b[0;34m[\u001b[0m\u001b[0mfeat\u001b[0m\u001b[0;34m]\u001b[0m\u001b[0;34m)\u001b[0m\u001b[0;34m\u001b[0m\u001b[0;34m\u001b[0m\u001b[0m\n\u001b[0m\u001b[1;32m    104\u001b[0m             \u001b[0;32melse\u001b[0m\u001b[0;34m:\u001b[0m\u001b[0;34m\u001b[0m\u001b[0;34m\u001b[0m\u001b[0m\n\u001b[1;32m    105\u001b[0m                 \u001b[0;32mfor\u001b[0m \u001b[0mfeat\u001b[0m \u001b[0;32min\u001b[0m \u001b[0mrelevant_features\u001b[0m\u001b[0;34m:\u001b[0m\u001b[0;34m\u001b[0m\u001b[0;34m\u001b[0m\u001b[0m\n",
      "\u001b[0;31mKeyError\u001b[0m: 'transport'"
     ]
    }
   ],
   "source": [
    "for run_id in run_ids:\n",
    "    quality = clf.predict(\n",
    "        run_id,\n",
    "        db_name,\n",
    "        db_folder,\n",
    "    )\n",
    "    if bool(quality[0]):\n",
    "        print('good quality')\n",
    "    else:\n",
    "        print('poor quality')\n",
    "        \n",
    "    plot_by_id(run_id)\n",
    "    plt.show()"
   ]
  },
  {
   "cell_type": "code",
   "execution_count": null,
   "id": "tamil-ferry",
   "metadata": {},
   "outputs": [],
   "source": []
  },
  {
   "cell_type": "code",
   "execution_count": null,
   "id": "regional-third",
   "metadata": {},
   "outputs": [],
   "source": []
  }
 ],
 "metadata": {
  "kernelspec": {
   "display_name": "Python 3",
   "language": "python",
   "name": "python3"
  },
  "language_info": {
   "codemirror_mode": {
    "name": "ipython",
    "version": 3
   },
   "file_extension": ".py",
   "mimetype": "text/x-python",
   "name": "python",
   "nbconvert_exporter": "python",
   "pygments_lexer": "ipython3",
   "version": "3.9.1"
  }
 },
 "nbformat": 4,
 "nbformat_minor": 5
}
