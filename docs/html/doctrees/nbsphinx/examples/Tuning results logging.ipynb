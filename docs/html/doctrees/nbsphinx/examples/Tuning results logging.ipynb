{
 "cells": [
  {
   "cell_type": "code",
   "execution_count": 1,
   "id": "dependent-assistant",
   "metadata": {
    "execution": {
     "iopub.execute_input": "2021-07-27T14:43:56.864220Z",
     "iopub.status.busy": "2021-07-27T14:43:56.863238Z",
     "iopub.status.idle": "2021-07-27T14:44:02.325905Z",
     "shell.execute_reply": "2021-07-27T14:44:02.325143Z"
    }
   },
   "outputs": [
    {
     "name": "stdout",
     "output_type": "stream",
     "text": [
      "Logging hadn't been started.\n",
      "Activating auto-logging. Current session state plus future input saved.\n",
      "Filename       : /Users/jana/.qcodes/logs/command_history.log\n",
      "Mode           : append\n",
      "Output logging : True\n",
      "Raw input log  : False\n",
      "Timestamping   : True\n",
      "State          : active\n"
     ]
    },
    {
     "name": "stdout",
     "output_type": "stream",
     "text": [
      "Qcodes Logfile : /Users/jana/.qcodes/logs/210727-25344-qcodes.log\n"
     ]
    }
   ],
   "source": [
    "import nanotune as nt\n",
    "from nanotune.device_tuner.tuningresult import TuningResult, MeasurementHistory"
   ]
  },
  {
   "cell_type": "code",
   "execution_count": 2,
   "id": "assisted-geography",
   "metadata": {
    "execution": {
     "iopub.execute_input": "2021-07-27T14:44:02.334628Z",
     "iopub.status.busy": "2021-07-27T14:44:02.333467Z",
     "iopub.status.idle": "2021-07-27T14:44:02.607928Z",
     "shell.execute_reply": "2021-07-27T14:44:02.608806Z"
    }
   },
   "outputs": [
    {
     "ename": "TypeError",
     "evalue": "__init__() got an unexpected keyword argument 'features'",
     "output_type": "error",
     "traceback": [
      "\u001b[0;31m---------------------------------------------------------------------------\u001b[0m",
      "\u001b[0;31mTypeError\u001b[0m                                 Traceback (most recent call last)",
      "\u001b[0;32m/var/folders/6p/gsmpfmfs6k7gkkt4ls8d_qrm0000gn/T/ipykernel_25344/3967434994.py\u001b[0m in \u001b[0;36m<module>\u001b[0;34m\u001b[0m\n\u001b[0;32m----> 1\u001b[0;31m result = TuningResult(\n\u001b[0m\u001b[1;32m      2\u001b[0m     \u001b[0;34m'gatecharacterization'\u001b[0m\u001b[0;34m,\u001b[0m\u001b[0;34m\u001b[0m\u001b[0;34m\u001b[0m\u001b[0m\n\u001b[1;32m      3\u001b[0m     \u001b[0;32mTrue\u001b[0m\u001b[0;34m,\u001b[0m\u001b[0;34m\u001b[0m\u001b[0;34m\u001b[0m\u001b[0m\n\u001b[1;32m      4\u001b[0m     \u001b[0mguids\u001b[0m\u001b[0;34m=\u001b[0m\u001b[0;34m[\u001b[0m\u001b[0;34m'aaaaaaaa-0000-0000-0000-000000000000'\u001b[0m\u001b[0;34m]\u001b[0m\u001b[0;34m,\u001b[0m\u001b[0;34m\u001b[0m\u001b[0;34m\u001b[0m\u001b[0m\n\u001b[1;32m      5\u001b[0m     \u001b[0mdata_ids\u001b[0m\u001b[0;34m=\u001b[0m\u001b[0;34m[\u001b[0m\u001b[0;36m1\u001b[0m\u001b[0;34m]\u001b[0m\u001b[0;34m,\u001b[0m\u001b[0;34m\u001b[0m\u001b[0;34m\u001b[0m\u001b[0m\n",
      "\u001b[0;31mTypeError\u001b[0m: __init__() got an unexpected keyword argument 'features'"
     ]
    }
   ],
   "source": [
    "result = TuningResult(\n",
    "    'gatecharacterization',\n",
    "    True,\n",
    "    guids=['aaaaaaaa-0000-0000-0000-000000000000'],\n",
    "    data_ids=[1],\n",
    "    db_name='test_po.db',\n",
    "    features={'low_voltage': -0.4,\n",
    "              'high_voltage': -0.6,\n",
    "              'transition_voltage': -0.5,\n",
    "             }\n",
    ")"
   ]
  },
  {
   "cell_type": "code",
   "execution_count": 3,
   "id": "static-rouge",
   "metadata": {
    "execution": {
     "iopub.execute_input": "2021-07-27T14:44:02.618685Z",
     "iopub.status.busy": "2021-07-27T14:44:02.616663Z",
     "iopub.status.idle": "2021-07-27T14:44:02.623454Z",
     "shell.execute_reply": "2021-07-27T14:44:02.623958Z"
    }
   },
   "outputs": [
    {
     "ename": "NameError",
     "evalue": "name 'result' is not defined",
     "output_type": "error",
     "traceback": [
      "\u001b[0;31m---------------------------------------------------------------------------\u001b[0m",
      "\u001b[0;31mNameError\u001b[0m                                 Traceback (most recent call last)",
      "\u001b[0;32m/var/folders/6p/gsmpfmfs6k7gkkt4ls8d_qrm0000gn/T/ipykernel_25344/2901083997.py\u001b[0m in \u001b[0;36m<module>\u001b[0;34m\u001b[0m\n\u001b[0;32m----> 1\u001b[0;31m \u001b[0mresult\u001b[0m\u001b[0;34m.\u001b[0m\u001b[0msuccess\u001b[0m\u001b[0;34m\u001b[0m\u001b[0;34m\u001b[0m\u001b[0m\n\u001b[0m",
      "\u001b[0;31mNameError\u001b[0m: name 'result' is not defined"
     ]
    }
   ],
   "source": [
    "result.success"
   ]
  },
  {
   "cell_type": "code",
   "execution_count": 4,
   "id": "protected-management",
   "metadata": {
    "execution": {
     "iopub.execute_input": "2021-07-27T14:44:02.628845Z",
     "iopub.status.busy": "2021-07-27T14:44:02.627808Z",
     "iopub.status.idle": "2021-07-27T14:44:02.636538Z",
     "shell.execute_reply": "2021-07-27T14:44:02.637124Z"
    }
   },
   "outputs": [
    {
     "ename": "NameError",
     "evalue": "name 'result' is not defined",
     "output_type": "error",
     "traceback": [
      "\u001b[0;31m---------------------------------------------------------------------------\u001b[0m",
      "\u001b[0;31mNameError\u001b[0m                                 Traceback (most recent call last)",
      "\u001b[0;32m/var/folders/6p/gsmpfmfs6k7gkkt4ls8d_qrm0000gn/T/ipykernel_25344/3140865674.py\u001b[0m in \u001b[0;36m<module>\u001b[0;34m\u001b[0m\n\u001b[0;32m----> 1\u001b[0;31m \u001b[0mresult\u001b[0m\u001b[0;34m.\u001b[0m\u001b[0mto_dict\u001b[0m\u001b[0;34m(\u001b[0m\u001b[0;34m)\u001b[0m\u001b[0;34m\u001b[0m\u001b[0;34m\u001b[0m\u001b[0m\n\u001b[0m",
      "\u001b[0;31mNameError\u001b[0m: name 'result' is not defined"
     ]
    }
   ],
   "source": [
    "result.to_dict()"
   ]
  },
  {
   "cell_type": "code",
   "execution_count": 5,
   "id": "forty-compiler",
   "metadata": {
    "execution": {
     "iopub.execute_input": "2021-07-27T14:44:02.642342Z",
     "iopub.status.busy": "2021-07-27T14:44:02.641581Z",
     "iopub.status.idle": "2021-07-27T14:44:02.643964Z",
     "shell.execute_reply": "2021-07-27T14:44:02.644530Z"
    }
   },
   "outputs": [],
   "source": [
    "ms = MeasurementHistory('doubledot_test')"
   ]
  },
  {
   "cell_type": "code",
   "execution_count": 6,
   "id": "minor-river",
   "metadata": {
    "execution": {
     "iopub.execute_input": "2021-07-27T14:44:02.649198Z",
     "iopub.status.busy": "2021-07-27T14:44:02.648424Z",
     "iopub.status.idle": "2021-07-27T14:44:02.657107Z",
     "shell.execute_reply": "2021-07-27T14:44:02.657646Z"
    }
   },
   "outputs": [
    {
     "ename": "NameError",
     "evalue": "name 'result' is not defined",
     "output_type": "error",
     "traceback": [
      "\u001b[0;31m---------------------------------------------------------------------------\u001b[0m",
      "\u001b[0;31mNameError\u001b[0m                                 Traceback (most recent call last)",
      "\u001b[0;32m/var/folders/6p/gsmpfmfs6k7gkkt4ls8d_qrm0000gn/T/ipykernel_25344/47855685.py\u001b[0m in \u001b[0;36m<module>\u001b[0;34m\u001b[0m\n\u001b[0;32m----> 1\u001b[0;31m \u001b[0mms\u001b[0m\u001b[0;34m.\u001b[0m\u001b[0madd_result\u001b[0m\u001b[0;34m(\u001b[0m\u001b[0mresult\u001b[0m\u001b[0;34m,\u001b[0m \u001b[0;34m'gate1_characterization'\u001b[0m\u001b[0;34m)\u001b[0m\u001b[0;34m\u001b[0m\u001b[0;34m\u001b[0m\u001b[0m\n\u001b[0m",
      "\u001b[0;31mNameError\u001b[0m: name 'result' is not defined"
     ]
    }
   ],
   "source": [
    "ms.add_result(result, 'gate1_characterization')"
   ]
  },
  {
   "cell_type": "code",
   "execution_count": 7,
   "id": "stylish-drama",
   "metadata": {
    "execution": {
     "iopub.execute_input": "2021-07-27T14:44:02.667053Z",
     "iopub.status.busy": "2021-07-27T14:44:02.666024Z",
     "iopub.status.idle": "2021-07-27T14:44:02.669116Z",
     "shell.execute_reply": "2021-07-27T14:44:02.669711Z"
    }
   },
   "outputs": [
    {
     "ename": "KeyError",
     "evalue": "'gate1_characterization'",
     "output_type": "error",
     "traceback": [
      "\u001b[0;31m---------------------------------------------------------------------------\u001b[0m",
      "\u001b[0;31mKeyError\u001b[0m                                  Traceback (most recent call last)",
      "\u001b[0;32m/var/folders/6p/gsmpfmfs6k7gkkt4ls8d_qrm0000gn/T/ipykernel_25344/776168843.py\u001b[0m in \u001b[0;36m<module>\u001b[0;34m\u001b[0m\n\u001b[0;32m----> 1\u001b[0;31m \u001b[0mms\u001b[0m\u001b[0;34m.\u001b[0m\u001b[0mtuningresults\u001b[0m\u001b[0;34m[\u001b[0m\u001b[0;34m'gate1_characterization'\u001b[0m\u001b[0;34m]\u001b[0m\u001b[0;34m.\u001b[0m\u001b[0mfeatures\u001b[0m\u001b[0;34m\u001b[0m\u001b[0;34m\u001b[0m\u001b[0m\n\u001b[0m",
      "\u001b[0;31mKeyError\u001b[0m: 'gate1_characterization'"
     ]
    }
   ],
   "source": [
    "ms.tuningresults['gate1_characterization'].features"
   ]
  },
  {
   "cell_type": "code",
   "execution_count": null,
   "id": "single-energy",
   "metadata": {},
   "outputs": [],
   "source": []
  },
  {
   "cell_type": "code",
   "execution_count": null,
   "id": "friendly-burning",
   "metadata": {},
   "outputs": [],
   "source": []
  },
  {
   "cell_type": "code",
   "execution_count": null,
   "id": "manufactured-springer",
   "metadata": {},
   "outputs": [],
   "source": []
  },
  {
   "cell_type": "code",
   "execution_count": null,
   "id": "controlling-finance",
   "metadata": {},
   "outputs": [],
   "source": []
  }
 ],
 "metadata": {
  "kernelspec": {
   "display_name": "Python 3",
   "language": "python",
   "name": "python3"
  },
  "language_info": {
   "codemirror_mode": {
    "name": "ipython",
    "version": 3
   },
   "file_extension": ".py",
   "mimetype": "text/x-python",
   "name": "python",
   "nbconvert_exporter": "python",
   "pygments_lexer": "ipython3",
   "version": "3.8.10"
  }
 },
 "nbformat": 4,
 "nbformat_minor": 5
}
