{
 "cells": [
  {
   "cell_type": "code",
   "execution_count": 1,
   "id": "celtic-google",
   "metadata": {
    "execution": {
     "iopub.execute_input": "2021-07-27T12:48:50.921063Z",
     "iopub.status.busy": "2021-07-27T12:48:50.906265Z",
     "iopub.status.idle": "2021-07-27T12:49:01.196568Z",
     "shell.execute_reply": "2021-07-27T12:49:01.197256Z"
    }
   },
   "outputs": [
    {
     "name": "stdout",
     "output_type": "stream",
     "text": [
      "Logging hadn't been started.\n",
      "Activating auto-logging. Current session state plus future input saved.\n",
      "Filename       : /Users/jana/.qcodes/logs/command_history.log\n",
      "Mode           : append\n",
      "Output logging : True\n",
      "Raw input log  : False\n",
      "Timestamping   : True\n",
      "State          : active\n"
     ]
    },
    {
     "name": "stdout",
     "output_type": "stream",
     "text": [
      "Qcodes Logfile : /Users/jana/.qcodes/logs/210727-14513-qcodes.log\n"
     ]
    },
    {
     "ename": "ImportError",
     "evalue": "cannot import name 'QuantumDotMockInstrument' from 'sim.qcodes_mocks' (/Users/jana/Documents/code/nanotune/nanotune/sim/qcodes_mocks.py)",
     "output_type": "error",
     "traceback": [
      "\u001b[0;31m---------------------------------------------------------------------------\u001b[0m",
      "\u001b[0;31mImportError\u001b[0m                               Traceback (most recent call last)",
      "\u001b[0;32m<ipython-input-1-587fd42dcd64>\u001b[0m in \u001b[0;36m<module>\u001b[0;34m\u001b[0m\n\u001b[1;32m     10\u001b[0m \u001b[0;34m\u001b[0m\u001b[0m\n\u001b[1;32m     11\u001b[0m \u001b[0;32mfrom\u001b[0m \u001b[0msim\u001b[0m\u001b[0;34m.\u001b[0m\u001b[0mdata_providers\u001b[0m \u001b[0;32mimport\u001b[0m \u001b[0mQcodesDataProvider\u001b[0m\u001b[0;34m\u001b[0m\u001b[0;34m\u001b[0m\u001b[0m\n\u001b[0;32m---> 12\u001b[0;31m \u001b[0;32mfrom\u001b[0m \u001b[0msim\u001b[0m\u001b[0;34m.\u001b[0m\u001b[0mqcodes_mocks\u001b[0m \u001b[0;32mimport\u001b[0m \u001b[0mQuantumDotMockInstrument\u001b[0m\u001b[0;34m\u001b[0m\u001b[0;34m\u001b[0m\u001b[0m\n\u001b[0m\u001b[1;32m     13\u001b[0m \u001b[0;34m\u001b[0m\u001b[0m\n\u001b[1;32m     14\u001b[0m \u001b[0mnt_path\u001b[0m \u001b[0;34m=\u001b[0m \u001b[0mos\u001b[0m\u001b[0;34m.\u001b[0m\u001b[0mpath\u001b[0m\u001b[0;34m.\u001b[0m\u001b[0mdirname\u001b[0m\u001b[0;34m(\u001b[0m\u001b[0mos\u001b[0m\u001b[0;34m.\u001b[0m\u001b[0mpath\u001b[0m\u001b[0;34m.\u001b[0m\u001b[0mdirname\u001b[0m\u001b[0;34m(\u001b[0m\u001b[0mos\u001b[0m\u001b[0;34m.\u001b[0m\u001b[0mpath\u001b[0m\u001b[0;34m.\u001b[0m\u001b[0mabspath\u001b[0m\u001b[0;34m(\u001b[0m\u001b[0mnt\u001b[0m\u001b[0;34m.\u001b[0m\u001b[0m__file__\u001b[0m\u001b[0;34m)\u001b[0m\u001b[0;34m)\u001b[0m\u001b[0;34m)\u001b[0m\u001b[0;34m\u001b[0m\u001b[0;34m\u001b[0m\u001b[0m\n",
      "\u001b[0;31mImportError\u001b[0m: cannot import name 'QuantumDotMockInstrument' from 'sim.qcodes_mocks' (/Users/jana/Documents/code/nanotune/nanotune/sim/qcodes_mocks.py)"
     ]
    }
   ],
   "source": [
    "import os\n",
    "\n",
    "from qcodes import Station, load_or_create_experiment\n",
    "from qcodes.dataset.plotting import plot_dataset\n",
    "from qcodes.dataset.data_set import load_by_run_spec\n",
    " \n",
    "import nanotune as nt\n",
    "from nanotune.tests.mock_classifier import MockClassifer\n",
    "from nanotune.tuningstages.chargediagram import ChargeDiagram\n",
    "\n",
    "from sim.data_providers import QcodesDataProvider\n",
    "from sim.qcodes_mocks import QuantumDotMockInstrument\n",
    "\n",
    "nt_path = os.path.dirname(os.path.dirname(os.path.abspath(nt.__file__)))"
   ]
  },
  {
   "cell_type": "markdown",
   "id": "unlikely-trust",
   "metadata": {},
   "source": [
    "Define databases"
   ]
  },
  {
   "cell_type": "code",
   "execution_count": 2,
   "id": "tutorial-raleigh",
   "metadata": {
    "execution": {
     "iopub.execute_input": "2021-07-27T12:49:01.203281Z",
     "iopub.status.busy": "2021-07-27T12:49:01.202495Z",
     "iopub.status.idle": "2021-07-27T12:49:01.215827Z",
     "shell.execute_reply": "2021-07-27T12:49:01.214564Z"
    }
   },
   "outputs": [
    {
     "ename": "NameError",
     "evalue": "name 'nt_path' is not defined",
     "output_type": "error",
     "traceback": [
      "\u001b[0;31m---------------------------------------------------------------------------\u001b[0m",
      "\u001b[0;31mNameError\u001b[0m                                 Traceback (most recent call last)",
      "\u001b[0;32m<ipython-input-1-0e434f30eb17>\u001b[0m in \u001b[0;36m<module>\u001b[0;34m\u001b[0m\n\u001b[1;32m      1\u001b[0m \u001b[0mdb_name_original_data2D\u001b[0m \u001b[0;34m=\u001b[0m \u001b[0;34m\"dot_tuning_sequences.db\"\u001b[0m\u001b[0;34m\u001b[0m\u001b[0;34m\u001b[0m\u001b[0m\n\u001b[0;32m----> 2\u001b[0;31m \u001b[0mdb_folder_original_data\u001b[0m \u001b[0;34m=\u001b[0m \u001b[0mos\u001b[0m\u001b[0;34m.\u001b[0m\u001b[0mpath\u001b[0m\u001b[0;34m.\u001b[0m\u001b[0mjoin\u001b[0m\u001b[0;34m(\u001b[0m\u001b[0mnt_path\u001b[0m\u001b[0;34m,\u001b[0m \u001b[0;34m\"data\"\u001b[0m\u001b[0;34m,\u001b[0m \u001b[0;34m\"tuning\"\u001b[0m\u001b[0;34m)\u001b[0m\u001b[0;34m\u001b[0m\u001b[0;34m\u001b[0m\u001b[0m\n\u001b[0m\u001b[1;32m      3\u001b[0m \u001b[0mchargediagram_path\u001b[0m \u001b[0;34m=\u001b[0m \u001b[0mos\u001b[0m\u001b[0;34m.\u001b[0m\u001b[0mpath\u001b[0m\u001b[0;34m.\u001b[0m\u001b[0mjoin\u001b[0m\u001b[0;34m(\u001b[0m\u001b[0mdb_folder_original_data\u001b[0m\u001b[0;34m,\u001b[0m \u001b[0mdb_name_original_data2D\u001b[0m\u001b[0;34m)\u001b[0m\u001b[0;34m\u001b[0m\u001b[0;34m\u001b[0m\u001b[0m\n\u001b[1;32m      4\u001b[0m \u001b[0;34m\u001b[0m\u001b[0m\n\u001b[1;32m      5\u001b[0m \u001b[0mdb_name_replay\u001b[0m \u001b[0;34m=\u001b[0m \u001b[0;34m'qdsim_test.db'\u001b[0m\u001b[0;34m\u001b[0m\u001b[0;34m\u001b[0m\u001b[0m\n",
      "\u001b[0;31mNameError\u001b[0m: name 'nt_path' is not defined"
     ]
    }
   ],
   "source": [
    "db_name_original_data2D = \"dot_tuning_sequences.db\"\n",
    "db_folder_original_data = os.path.join(nt_path, \"data\", \"tuning\")\n",
    "chargediagram_path = os.path.join(db_folder_original_data, db_name_original_data2D)\n",
    "\n",
    "db_name_replay = 'qdsim_test.db'\n",
    "db_folder_replay = os.getcwd()"
   ]
  },
  {
   "cell_type": "markdown",
   "id": "failing-saint",
   "metadata": {},
   "source": [
    "Create qc.Station"
   ]
  },
  {
   "cell_type": "code",
   "execution_count": 3,
   "id": "premium-organic",
   "metadata": {
    "execution": {
     "iopub.execute_input": "2021-07-27T12:49:01.224424Z",
     "iopub.status.busy": "2021-07-27T12:49:01.222983Z",
     "iopub.status.idle": "2021-07-27T12:49:01.234890Z",
     "shell.execute_reply": "2021-07-27T12:49:01.235438Z"
    }
   },
   "outputs": [
    {
     "ename": "NameError",
     "evalue": "name 'QuantumDotMockInstrument' is not defined",
     "output_type": "error",
     "traceback": [
      "\u001b[0;31m---------------------------------------------------------------------------\u001b[0m",
      "\u001b[0;31mNameError\u001b[0m                                 Traceback (most recent call last)",
      "\u001b[0;32m<ipython-input-1-e0f94335ba9e>\u001b[0m in \u001b[0;36m<module>\u001b[0;34m\u001b[0m\n\u001b[1;32m      1\u001b[0m \u001b[0mstation\u001b[0m \u001b[0;34m=\u001b[0m \u001b[0mStation\u001b[0m\u001b[0;34m(\u001b[0m\u001b[0;34m)\u001b[0m\u001b[0;34m\u001b[0m\u001b[0;34m\u001b[0m\u001b[0m\n\u001b[1;32m      2\u001b[0m \u001b[0;34m\u001b[0m\u001b[0m\n\u001b[0;32m----> 3\u001b[0;31m \u001b[0mqd_mock_instrument\u001b[0m \u001b[0;34m=\u001b[0m \u001b[0mQuantumDotMockInstrument\u001b[0m\u001b[0;34m(\u001b[0m\u001b[0;34m)\u001b[0m\u001b[0;34m\u001b[0m\u001b[0;34m\u001b[0m\u001b[0m\n\u001b[0m\u001b[1;32m      4\u001b[0m \u001b[0mstation\u001b[0m\u001b[0;34m.\u001b[0m\u001b[0madd_component\u001b[0m\u001b[0;34m(\u001b[0m\u001b[0mqd_mock_instrument\u001b[0m\u001b[0;34m,\u001b[0m \u001b[0mname\u001b[0m\u001b[0;34m=\u001b[0m\u001b[0;34m\"qdmock\"\u001b[0m\u001b[0;34m)\u001b[0m\u001b[0;34m\u001b[0m\u001b[0;34m\u001b[0m\u001b[0m\n\u001b[1;32m      5\u001b[0m \u001b[0;34m\u001b[0m\u001b[0m\n",
      "\u001b[0;31mNameError\u001b[0m: name 'QuantumDotMockInstrument' is not defined"
     ]
    }
   ],
   "source": [
    "station = Station()\n",
    "\n",
    "qd_mock_instrument = QuantumDotMockInstrument()\n",
    "station.add_component(qd_mock_instrument, name=\"qdmock\")\n",
    "\n",
    "qdsim = qd_mock_instrument.mock_device"
   ]
  },
  {
   "cell_type": "markdown",
   "id": "polar-birmingham",
   "metadata": {},
   "source": [
    "Create the data provider"
   ]
  },
  {
   "cell_type": "code",
   "execution_count": 4,
   "id": "bored-facial",
   "metadata": {
    "execution": {
     "iopub.execute_input": "2021-07-27T12:49:01.241557Z",
     "iopub.status.busy": "2021-07-27T12:49:01.240776Z",
     "iopub.status.idle": "2021-07-27T12:49:01.251056Z",
     "shell.execute_reply": "2021-07-27T12:49:01.251654Z"
    }
   },
   "outputs": [
    {
     "ename": "NameError",
     "evalue": "name 'qdsim' is not defined",
     "output_type": "error",
     "traceback": [
      "\u001b[0;31m---------------------------------------------------------------------------\u001b[0m",
      "\u001b[0;31mNameError\u001b[0m                                 Traceback (most recent call last)",
      "\u001b[0;32m<ipython-input-1-6d286b35158f>\u001b[0m in \u001b[0;36m<module>\u001b[0;34m\u001b[0m\n\u001b[1;32m      1\u001b[0m charge_state_data = QcodesDataProvider(\n\u001b[0;32m----> 2\u001b[0;31m     \u001b[0minput_providers\u001b[0m\u001b[0;34m=\u001b[0m\u001b[0;34m[\u001b[0m\u001b[0mqdsim\u001b[0m\u001b[0;34m.\u001b[0m\u001b[0ml_plunger\u001b[0m\u001b[0;34m,\u001b[0m \u001b[0mqdsim\u001b[0m\u001b[0;34m.\u001b[0m\u001b[0mr_plunger\u001b[0m\u001b[0;34m]\u001b[0m\u001b[0;34m,\u001b[0m\u001b[0;34m\u001b[0m\u001b[0;34m\u001b[0m\u001b[0m\n\u001b[0m\u001b[1;32m      3\u001b[0m     \u001b[0mdb_path\u001b[0m\u001b[0;34m=\u001b[0m\u001b[0mchargediagram_path\u001b[0m\u001b[0;34m,\u001b[0m\u001b[0;34m\u001b[0m\u001b[0;34m\u001b[0m\u001b[0m\n\u001b[1;32m      4\u001b[0m     \u001b[0mexp_name\u001b[0m\u001b[0;34m=\u001b[0m\u001b[0;34m\"GB_Newtown_Dev_1_1\"\u001b[0m\u001b[0;34m,\u001b[0m\u001b[0;34m\u001b[0m\u001b[0;34m\u001b[0m\u001b[0m\n\u001b[1;32m      5\u001b[0m     \u001b[0mrun_id\u001b[0m \u001b[0;34m=\u001b[0m \u001b[0;36m19\u001b[0m\u001b[0;34m,\u001b[0m\u001b[0;34m\u001b[0m\u001b[0;34m\u001b[0m\u001b[0m\n",
      "\u001b[0;31mNameError\u001b[0m: name 'qdsim' is not defined"
     ]
    }
   ],
   "source": [
    "charge_state_data = QcodesDataProvider(\n",
    "    input_providers=[qdsim.l_plunger, qdsim.r_plunger], \n",
    "    db_path=chargediagram_path, \n",
    "    exp_name=\"GB_Newtown_Dev_1_1\", \n",
    "    run_id = 19,\n",
    ")\n",
    "qd_mock_instrument.drain.set_data_provider(charge_state_data)"
   ]
  },
  {
   "cell_type": "code",
   "execution_count": 5,
   "id": "familiar-mambo",
   "metadata": {
    "execution": {
     "iopub.execute_input": "2021-07-27T12:49:01.257697Z",
     "iopub.status.busy": "2021-07-27T12:49:01.256898Z",
     "iopub.status.idle": "2021-07-27T12:49:01.267701Z",
     "shell.execute_reply": "2021-07-27T12:49:01.268294Z"
    }
   },
   "outputs": [
    {
     "ename": "NameError",
     "evalue": "name 'db_folder_original_data' is not defined",
     "output_type": "error",
     "traceback": [
      "\u001b[0;31m---------------------------------------------------------------------------\u001b[0m",
      "\u001b[0;31mNameError\u001b[0m                                 Traceback (most recent call last)",
      "\u001b[0;32m<ipython-input-1-ef4c6835689b>\u001b[0m in \u001b[0;36m<module>\u001b[0;34m\u001b[0m\n\u001b[0;32m----> 1\u001b[0;31m \u001b[0mds\u001b[0m \u001b[0;34m=\u001b[0m \u001b[0mnt\u001b[0m\u001b[0;34m.\u001b[0m\u001b[0mDataset\u001b[0m\u001b[0;34m(\u001b[0m\u001b[0;36m19\u001b[0m\u001b[0;34m,\u001b[0m \u001b[0mdb_name_original_data2D\u001b[0m\u001b[0;34m,\u001b[0m \u001b[0mdb_folder_original_data\u001b[0m\u001b[0;34m)\u001b[0m\u001b[0;34m\u001b[0m\u001b[0;34m\u001b[0m\u001b[0m\n\u001b[0m\u001b[1;32m      2\u001b[0m range_to_sweep = [\n\u001b[1;32m      3\u001b[0m     \u001b[0;34m(\u001b[0m\u001b[0mmin\u001b[0m\u001b[0;34m(\u001b[0m\u001b[0mds\u001b[0m\u001b[0;34m.\u001b[0m\u001b[0mdata\u001b[0m\u001b[0;34m.\u001b[0m\u001b[0mvoltage_x\u001b[0m\u001b[0;34m.\u001b[0m\u001b[0mvalues\u001b[0m\u001b[0;34m)\u001b[0m\u001b[0;34m,\u001b[0m \u001b[0mmax\u001b[0m\u001b[0;34m(\u001b[0m\u001b[0mds\u001b[0m\u001b[0;34m.\u001b[0m\u001b[0mdata\u001b[0m\u001b[0;34m.\u001b[0m\u001b[0mvoltage_x\u001b[0m\u001b[0;34m.\u001b[0m\u001b[0mvalues\u001b[0m\u001b[0;34m)\u001b[0m\u001b[0;34m)\u001b[0m\u001b[0;34m,\u001b[0m\u001b[0;34m\u001b[0m\u001b[0;34m\u001b[0m\u001b[0m\n\u001b[1;32m      4\u001b[0m     \u001b[0;34m(\u001b[0m\u001b[0mmin\u001b[0m\u001b[0;34m(\u001b[0m\u001b[0mds\u001b[0m\u001b[0;34m.\u001b[0m\u001b[0mdata\u001b[0m\u001b[0;34m.\u001b[0m\u001b[0mvoltage_y\u001b[0m\u001b[0;34m.\u001b[0m\u001b[0mvalues\u001b[0m\u001b[0;34m)\u001b[0m\u001b[0;34m,\u001b[0m \u001b[0mmax\u001b[0m\u001b[0;34m(\u001b[0m\u001b[0mds\u001b[0m\u001b[0;34m.\u001b[0m\u001b[0mdata\u001b[0m\u001b[0;34m.\u001b[0m\u001b[0mvoltage_y\u001b[0m\u001b[0;34m.\u001b[0m\u001b[0mvalues\u001b[0m\u001b[0;34m)\u001b[0m\u001b[0;34m)\u001b[0m\u001b[0;34m,\u001b[0m\u001b[0;34m\u001b[0m\u001b[0;34m\u001b[0m\u001b[0m\n\u001b[1;32m      5\u001b[0m ]\n",
      "\u001b[0;31mNameError\u001b[0m: name 'db_folder_original_data' is not defined"
     ]
    }
   ],
   "source": [
    "ds = nt.Dataset(19, db_name_original_data2D, db_folder_original_data)\n",
    "range_to_sweep = [\n",
    "    (min(ds.data.voltage_x.values), max(ds.data.voltage_x.values)),\n",
    "    (min(ds.data.voltage_y.values), max(ds.data.voltage_y.values)),\n",
    "]\n",
    "# range_to_sweep"
   ]
  },
  {
   "cell_type": "code",
   "execution_count": 6,
   "id": "automated-stations",
   "metadata": {
    "execution": {
     "iopub.execute_input": "2021-07-27T12:49:01.273671Z",
     "iopub.status.busy": "2021-07-27T12:49:01.272898Z",
     "iopub.status.idle": "2021-07-27T12:49:01.285298Z",
     "shell.execute_reply": "2021-07-27T12:49:01.285890Z"
    }
   },
   "outputs": [
    {
     "ename": "NameError",
     "evalue": "name 'db_name_replay' is not defined",
     "output_type": "error",
     "traceback": [
      "\u001b[0;31m---------------------------------------------------------------------------\u001b[0m",
      "\u001b[0;31mNameError\u001b[0m                                 Traceback (most recent call last)",
      "\u001b[0;32m<ipython-input-1-5e4524304098>\u001b[0m in \u001b[0;36m<module>\u001b[0;34m\u001b[0m\n\u001b[0;32m----> 1\u001b[0;31m \u001b[0mnt\u001b[0m\u001b[0;34m.\u001b[0m\u001b[0mset_database\u001b[0m\u001b[0;34m(\u001b[0m\u001b[0mdb_name_replay\u001b[0m\u001b[0;34m,\u001b[0m \u001b[0mdb_folder_replay\u001b[0m\u001b[0;34m)\u001b[0m\u001b[0;34m\u001b[0m\u001b[0;34m\u001b[0m\u001b[0m\n\u001b[0m\u001b[1;32m      2\u001b[0m \u001b[0mexp\u001b[0m \u001b[0;34m=\u001b[0m \u001b[0mload_or_create_experiment\u001b[0m\u001b[0;34m(\u001b[0m\u001b[0;34m\"simtest\"\u001b[0m\u001b[0;34m)\u001b[0m\u001b[0;34m\u001b[0m\u001b[0;34m\u001b[0m\u001b[0m\n",
      "\u001b[0;31mNameError\u001b[0m: name 'db_name_replay' is not defined"
     ]
    }
   ],
   "source": [
    "nt.set_database(db_name_replay, db_folder_replay)\n",
    "exp = load_or_create_experiment(\"simtest\")"
   ]
  },
  {
   "cell_type": "code",
   "execution_count": 7,
   "id": "sound-tomorrow",
   "metadata": {
    "execution": {
     "iopub.execute_input": "2021-07-27T12:49:01.293380Z",
     "iopub.status.busy": "2021-07-27T12:49:01.292151Z",
     "iopub.status.idle": "2021-07-27T12:49:01.305318Z",
     "shell.execute_reply": "2021-07-27T12:49:01.306303Z"
    }
   },
   "outputs": [
    {
     "ename": "NameError",
     "evalue": "name 'db_name_replay' is not defined",
     "output_type": "error",
     "traceback": [
      "\u001b[0;31m---------------------------------------------------------------------------\u001b[0m",
      "\u001b[0;31mNameError\u001b[0m                                 Traceback (most recent call last)",
      "\u001b[0;32m<ipython-input-1-8bf3603b8541>\u001b[0m in \u001b[0;36m<module>\u001b[0;34m\u001b[0m\n\u001b[1;32m      1\u001b[0m chadiag = ChargeDiagram(\n\u001b[1;32m      2\u001b[0m     data_settings={\n\u001b[0;32m----> 3\u001b[0;31m         \u001b[0;34m'db_name'\u001b[0m\u001b[0;34m:\u001b[0m \u001b[0mdb_name_replay\u001b[0m\u001b[0;34m,\u001b[0m\u001b[0;34m\u001b[0m\u001b[0;34m\u001b[0m\u001b[0m\n\u001b[0m\u001b[1;32m      4\u001b[0m         \u001b[0;34m'db_folder'\u001b[0m\u001b[0;34m:\u001b[0m \u001b[0mdb_folder_replay\u001b[0m\u001b[0;34m,\u001b[0m\u001b[0;34m\u001b[0m\u001b[0;34m\u001b[0m\u001b[0m\n\u001b[1;32m      5\u001b[0m         \u001b[0;34m'normalization_constants'\u001b[0m\u001b[0;34m:\u001b[0m \u001b[0mds\u001b[0m\u001b[0;34m.\u001b[0m\u001b[0mnormalization_constants\u001b[0m\u001b[0;34m,\u001b[0m\u001b[0;34m\u001b[0m\u001b[0;34m\u001b[0m\u001b[0m\n",
      "\u001b[0;31mNameError\u001b[0m: name 'db_name_replay' is not defined"
     ]
    }
   ],
   "source": [
    "\n",
    "chadiag = ChargeDiagram(\n",
    "    data_settings={\n",
    "        'db_name': db_name_replay,\n",
    "        'db_folder': db_folder_replay,\n",
    "        'normalization_constants': ds.normalization_constants,\n",
    "        'segment_size': 0.2,\n",
    "    },\n",
    "     setpoint_settings={\n",
    "        'voltage_precision': 0.01,\n",
    "        'parameters_to_sweep': [qd_mock_instrument.left_plunger, qd_mock_instrument.right_plunger],\n",
    "        'safety_voltage_ranges': [(-3, 0)],\n",
    "        'current_valid_ranges': range_to_sweep,\n",
    "    },\n",
    "    readout_methods={'transport': qd_mock_instrument.drain},\n",
    "    classifiers={\n",
    "        'singledot': MockClassifer('singledot'),\n",
    "        'doubledot': MockClassifer('doubledot'),\n",
    "        'dotregime': MockClassifer('dotregime')},\n",
    ")"
   ]
  },
  {
   "cell_type": "code",
   "execution_count": 8,
   "id": "consistent-coverage",
   "metadata": {
    "execution": {
     "iopub.execute_input": "2021-07-27T12:49:01.314697Z",
     "iopub.status.busy": "2021-07-27T12:49:01.313317Z",
     "iopub.status.idle": "2021-07-27T12:49:01.322063Z",
     "shell.execute_reply": "2021-07-27T12:49:01.322742Z"
    },
    "scrolled": true
   },
   "outputs": [
    {
     "ename": "NameError",
     "evalue": "name 'chadiag' is not defined",
     "output_type": "error",
     "traceback": [
      "\u001b[0;31m---------------------------------------------------------------------------\u001b[0m",
      "\u001b[0;31mNameError\u001b[0m                                 Traceback (most recent call last)",
      "\u001b[0;32m<ipython-input-1-9ce30c9d771c>\u001b[0m in \u001b[0;36m<module>\u001b[0;34m\u001b[0m\n\u001b[0;32m----> 1\u001b[0;31m \u001b[0mtuning_result\u001b[0m \u001b[0;34m=\u001b[0m \u001b[0mchadiag\u001b[0m\u001b[0;34m.\u001b[0m\u001b[0mrun_stage\u001b[0m\u001b[0;34m(\u001b[0m\u001b[0;34m)\u001b[0m\u001b[0;34m\u001b[0m\u001b[0;34m\u001b[0m\u001b[0m\n\u001b[0m",
      "\u001b[0;31mNameError\u001b[0m: name 'chadiag' is not defined"
     ]
    }
   ],
   "source": [
    "tuning_result = chadiag.run_stage()"
   ]
  },
  {
   "cell_type": "code",
   "execution_count": 9,
   "id": "blind-fairy",
   "metadata": {
    "execution": {
     "iopub.execute_input": "2021-07-27T12:49:01.327900Z",
     "iopub.status.busy": "2021-07-27T12:49:01.327087Z",
     "iopub.status.idle": "2021-07-27T12:49:01.337720Z",
     "shell.execute_reply": "2021-07-27T12:49:01.336917Z"
    }
   },
   "outputs": [
    {
     "ename": "NameError",
     "evalue": "name 'tuning_result' is not defined",
     "output_type": "error",
     "traceback": [
      "\u001b[0;31m---------------------------------------------------------------------------\u001b[0m",
      "\u001b[0;31mNameError\u001b[0m                                 Traceback (most recent call last)",
      "\u001b[0;32m<ipython-input-1-365f60c088a7>\u001b[0m in \u001b[0;36m<module>\u001b[0;34m\u001b[0m\n\u001b[0;32m----> 1\u001b[0;31m \u001b[0mtuning_result\u001b[0m\u001b[0;34m.\u001b[0m\u001b[0msuccess\u001b[0m\u001b[0;34m\u001b[0m\u001b[0;34m\u001b[0m\u001b[0m\n\u001b[0m",
      "\u001b[0;31mNameError\u001b[0m: name 'tuning_result' is not defined"
     ]
    }
   ],
   "source": [
    "tuning_result.success"
   ]
  },
  {
   "cell_type": "code",
   "execution_count": 10,
   "id": "seasonal-harbor",
   "metadata": {
    "execution": {
     "iopub.execute_input": "2021-07-27T12:49:01.342848Z",
     "iopub.status.busy": "2021-07-27T12:49:01.342067Z",
     "iopub.status.idle": "2021-07-27T12:49:01.353737Z",
     "shell.execute_reply": "2021-07-27T12:49:01.352784Z"
    }
   },
   "outputs": [
    {
     "ename": "NameError",
     "evalue": "name 'tuning_result' is not defined",
     "output_type": "error",
     "traceback": [
      "\u001b[0;31m---------------------------------------------------------------------------\u001b[0m",
      "\u001b[0;31mNameError\u001b[0m                                 Traceback (most recent call last)",
      "\u001b[0;32m<ipython-input-1-c699366c4808>\u001b[0m in \u001b[0;36m<module>\u001b[0;34m\u001b[0m\n\u001b[1;32m      1\u001b[0m \u001b[0;31m# Note that a mock classifier was used, which always returns True == good result\u001b[0m\u001b[0;34m\u001b[0m\u001b[0;34m\u001b[0m\u001b[0;34m\u001b[0m\u001b[0m\n\u001b[0;32m----> 2\u001b[0;31m \u001b[0mtuning_result\u001b[0m\u001b[0;34m.\u001b[0m\u001b[0mml_result\u001b[0m\u001b[0;34m\u001b[0m\u001b[0;34m\u001b[0m\u001b[0m\n\u001b[0m",
      "\u001b[0;31mNameError\u001b[0m: name 'tuning_result' is not defined"
     ]
    }
   ],
   "source": [
    "# Note that a mock classifier was used, which always returns True == good result\n",
    "tuning_result.ml_result"
   ]
  },
  {
   "cell_type": "code",
   "execution_count": 11,
   "id": "abandoned-anaheim",
   "metadata": {
    "execution": {
     "iopub.execute_input": "2021-07-27T12:49:01.361101Z",
     "iopub.status.busy": "2021-07-27T12:49:01.358362Z",
     "iopub.status.idle": "2021-07-27T12:49:01.368150Z",
     "shell.execute_reply": "2021-07-27T12:49:01.368741Z"
    }
   },
   "outputs": [
    {
     "ename": "NameError",
     "evalue": "name 'tuning_result' is not defined",
     "output_type": "error",
     "traceback": [
      "\u001b[0;31m---------------------------------------------------------------------------\u001b[0m",
      "\u001b[0;31mNameError\u001b[0m                                 Traceback (most recent call last)",
      "\u001b[0;32m<ipython-input-1-7b9e5f1f356e>\u001b[0m in \u001b[0;36m<module>\u001b[0;34m\u001b[0m\n\u001b[0;32m----> 1\u001b[0;31m \u001b[0mtuning_result\u001b[0m\u001b[0;34m.\u001b[0m\u001b[0mdata_ids\u001b[0m\u001b[0;34m\u001b[0m\u001b[0;34m\u001b[0m\u001b[0m\n\u001b[0m",
      "\u001b[0;31mNameError\u001b[0m: name 'tuning_result' is not defined"
     ]
    }
   ],
   "source": [
    "tuning_result.data_ids"
   ]
  },
  {
   "cell_type": "code",
   "execution_count": null,
   "id": "incorrect-allen",
   "metadata": {},
   "outputs": [],
   "source": []
  },
  {
   "cell_type": "code",
   "execution_count": null,
   "id": "separated-privilege",
   "metadata": {},
   "outputs": [],
   "source": []
  }
 ],
 "metadata": {
  "kernelspec": {
   "display_name": "Python 3",
   "language": "python",
   "name": "python3"
  },
  "language_info": {
   "codemirror_mode": {
    "name": "ipython",
    "version": 3
   },
   "file_extension": ".py",
   "mimetype": "text/x-python",
   "name": "python",
   "nbconvert_exporter": "python",
   "pygments_lexer": "ipython3",
   "version": "3.9.1"
  }
 },
 "nbformat": 4,
 "nbformat_minor": 5
}
